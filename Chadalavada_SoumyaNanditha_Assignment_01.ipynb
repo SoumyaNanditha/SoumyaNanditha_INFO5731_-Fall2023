{
 "cells": [
  {
   "cell_type": "markdown",
   "metadata": {
    "id": "view-in-github"
   },
   "source": [
    "<a href=\"https://colab.research.google.com/github/unt-iialab/INFO5731_Spring2020/blob/master/Assignments/INFO5731_Assignment_One.ipynb\" target=\"_parent\"><img src=\"https://colab.research.google.com/assets/colab-badge.svg\" alt=\"Open In Colab\"/></a>"
   ]
  },
  {
   "cell_type": "markdown",
   "metadata": {
    "id": "Ryk8D1Q4Wsrp"
   },
   "source": [
    "# **INFO5731 Assignment One**"
   ]
  },
  {
   "cell_type": "markdown",
   "metadata": {
    "id": "90_NR8c5XGWc"
   },
   "source": [
    "# Question 1\n",
    "\n",
    "(20 points). Write a Python program to generate 12 random numbers between 1 and 100. Sort the list of numbers in ascending order and print it out. Sort the list of numbers in descending order and print it out. Calculate the average for the group and print it out."
   ]
  },
  {
   "cell_type": "code",
   "execution_count": 18,
   "metadata": {
    "id": "5QX6bJjGWXY9"
   },
   "outputs": [
    {
     "name": "stdout",
     "output_type": "stream",
     "text": [
      "The list sorted in ascending order is :  [26, 28, 29, 37, 47, 58, 59, 76, 86, 89, 95, 99]\n",
      "The list sorted in descending order is :  [99, 95, 89, 86, 76, 59, 58, 47, 37, 29, 28, 26]\n",
      "The average of group is  60.75\n"
     ]
    }
   ],
   "source": [
    "# importing random module\n",
    "import random\n",
    "\n",
    "# generating 12 random numbers between 1 and 100\n",
    "random_numbers = [random.randint(1, 100) for _ in range(12)]\n",
    "\n",
    "# sorting random numbers in ascending order and printing them\n",
    "asc_list=sorted(random_numbers)\n",
    "print(\"The list sorted in ascending order is : \",asc_list)\n",
    "\n",
    "# sorting random numbers in descending order and printing them\n",
    "desc_list=sorted(random_numbers,reverse=True)\n",
    "print(\"The list sorted in descending order is : \",desc_list)\n",
    "\n",
    "# calculating the average\n",
    "average=sum(random_numbers)/12\n",
    "print(\"The average of group is \",average)\n"
   ]
  },
  {
   "cell_type": "markdown",
   "metadata": {
    "id": "1F_PZdH9Sh49"
   },
   "source": [
    "# Question 2\n",
    "(25 points).\n",
    "\n",
    "Write a program that will do the following string formatting tasks:\n",
    "\n",
    "(1) Ask the user to enter two sentences.\n",
    "\n",
    "(2) Make each sentence into a list. Each element in the list should correspond to a word in the sentence. For example, if the sentence is \"Alas! Am I alive? This is my first python program\", the program should print out ['Alas, '!', 'Am', 'I', 'alive, '?', 'This', 'is', 'my', 'first', 'python', 'program'].\n",
    "\n",
    "(3) Compare the two sentences. Print out a list of words that occur in both sentences.\n",
    "\n",
    "(4) Remove any punctuation from the sentence and print it back out. It should remove at least the following characters, but it can remove more: period(“.”), comma (“,”), semicolon (“;”), and colon (“:”)\n",
    "\n",
    "(5) Count the number of vowels in the sentences. Print out each vowel and the number of times it appears in the sentences, such as: a:2, e:1, i:0, etc"
   ]
  },
  {
   "cell_type": "code",
   "execution_count": 19,
   "metadata": {
    "id": "Y0oOSlsOS0cq"
   },
   "outputs": [
    {
     "name": "stdout",
     "output_type": "stream",
     "text": [
      "Enter first sentence: I am learning python!!\n",
      "Enter second sentence: I am also learning web scraping.\n",
      "The first sentence after splitting is  ['I', 'am', 'learning', 'python', '!', '!']\n",
      "The second sentence after splitting is  ['I', 'am', 'also', 'learning', 'web', 'scraping', '.']\n",
      "The common words in both sentences are :  ['learning', 'I', 'am']\n"
     ]
    }
   ],
   "source": [
    "# importing re module to use regular expressions\n",
    "import re\n",
    "import string\n",
    "\n",
    "# asking user to enter two sentences\n",
    "sentence1=input(\"Enter first sentence: \")\n",
    "sentence2=input(\"Enter second sentence: \")\n",
    "\n",
    "# splitting the sentences and storing them to lists\n",
    "sentence1_list=re.findall(r'\\w+|\\S', sentence1)\n",
    "print(\"The first sentence after splitting is \",sentence1_list)\n",
    "sentence2_list=re.findall(r'\\w+|\\S', sentence2)\n",
    "print(\"The second sentence after splitting is \",sentence2_list)\n",
    "\n",
    "# comparing two sentences and printing out the common words\n",
    "common_words = list(set(sentence1_list) & set(sentence2_list))\n",
    "print(\"The common words in both sentences are : \",common_words)\n"
   ]
  },
  {
   "cell_type": "code",
   "execution_count": 21,
   "metadata": {},
   "outputs": [
    {
     "name": "stdout",
     "output_type": "stream",
     "text": [
      "Sentence1 after removing punctuation is : I am learning python\n",
      "Sentence2 after removing punctuation is : I am also learning web scraping\n"
     ]
    }
   ],
   "source": [
    "import string\n",
    "# removing punctuation from sentence\n",
    "for punctuation in string.punctuation:\n",
    "    sentence1=sentence1.replace(punctuation, '')\n",
    "print(\"Sentence1 after removing punctuation is : \"+sentence1)\n",
    "for punctuation in string.punctuation:\n",
    "    sentence2=sentence2.replace(punctuation, '')\n",
    "print(\"Sentence2 after removing punctuation is : \"+sentence2)"
   ]
  },
  {
   "cell_type": "code",
   "execution_count": 22,
   "metadata": {},
   "outputs": [
    {
     "name": "stdout",
     "output_type": "stream",
     "text": [
      "The count of each vowel in sentence1 is :  {'A': 0, 'E': 0, 'I': 1, 'O': 0, 'U': 0, 'a': 2, 'e': 1, 'i': 1, 'o': 1, 'u': 0}\n",
      "The count of each vowel in sentence2 is :  {'A': 0, 'E': 0, 'I': 1, 'O': 0, 'U': 0, 'a': 4, 'e': 2, 'i': 2, 'o': 1, 'u': 0}\n"
     ]
    }
   ],
   "source": [
    "# counting vowels in sentences\n",
    "def count_vowels(sentence):\n",
    "    vowels = \"AEIOUaeiou\"\n",
    "    vowel_count = {vowel: 0 for vowel in vowels}\n",
    "    for char in sentence:\n",
    "        if char in vowel_count:\n",
    "            vowel_count[char] += 1\n",
    "    return vowel_count\n",
    "vowel_count1=count_vowels(sentence1)\n",
    "print(\"The count of each vowel in sentence1 is : \",vowel_count1)\n",
    "vowel_count2=count_vowels(sentence2)\n",
    "print(\"The count of each vowel in sentence2 is : \",vowel_count2)"
   ]
  },
  {
   "cell_type": "markdown",
   "metadata": {
    "id": "CmFoI4jDS9nx"
   },
   "source": [
    "# Question 3\n",
    "\n",
    "(15 points). The formula that describes the volume V of a sphere with radius r is the following:\n",
    "\n",
    "$ V=\\frac{4}{3}\\ast\\ \\pi\\ast\\ r^3 $\n",
    "\n",
    "Write a program to calculate the value of V when r is in the range of 1–10. Output the result in the following format:\n",
    "\n",
    "\tr\tV\n",
    "\t1\t…\n",
    "\t2\t…\n",
    "\t3\t…\n"
   ]
  },
  {
   "cell_type": "code",
   "execution_count": 3,
   "metadata": {
    "id": "pEyqeioAT95b"
   },
   "outputs": [
    {
     "name": "stdout",
     "output_type": "stream",
     "text": [
      " r           V\n",
      " 1    4.188790\n",
      " 2   33.510322\n",
      " 3  113.097336\n",
      " 4  268.082573\n",
      " 5  523.598776\n",
      " 6  904.778684\n",
      " 7 1436.755040\n",
      " 8 2144.660585\n",
      " 9 3053.628059\n",
      "10 4188.790205\n"
     ]
    }
   ],
   "source": [
    "# Your code here\n",
    "import math\n",
    "import pandas as pd\n",
    "\n",
    "# Create a list to store the volume\n",
    "volume_list = []\n",
    "\n",
    "# Calculate volume of sphere for each radius in the range 1-10 and append the values to list\n",
    "for r in range(1, 11):\n",
    "    V = (4/3) * math.pi * r**3\n",
    "    volume_list.append([r, V])\n",
    "\n",
    "# Create a pandas DataFrame with appropriate column names\n",
    "df = pd.DataFrame(volume_list, columns=[\"r\", \"V\"])\n",
    "\n",
    "# Print the DataFrame\n",
    "print(df.to_string(index=False))\n"
   ]
  },
  {
   "cell_type": "markdown",
   "metadata": {
    "id": "z3tBE7E-Xn5X"
   },
   "source": [
    "# Question 4\n",
    "\n",
    "(40 points). In the field of Data Science, data is often formatted as a comma-delimited (CSV) file, where each line in a file corresponds to a field's value. Refer to Chapter 9 (p. 106) for more information on comma-delimited files. To answer this question, you will need to download the file [Assignment1_denton_housing.csv](https://raw.githubusercontent.com/unt-iialab/info5731-spring2022/main/assignments/Assignment1_denton_housing.csv) included with this assignment. The file [Assignment1_denton_housing.csv](https://raw.githubusercontent.com/unt-iialab/info5731-spring2022/main/assignments/Assignment1_denton_housing.csv) contains statistics about housing in the city of Denton from 2008 to 2014. Write a program to implement the following questions.\n",
    "\n",
    "(1) (10 pts) Calculate the difference in the number of Occupied Housing Units from year to year and print it. The difference must be calculated for the consecutive years such as 2008-2009, 2009-2010 etc. Finally, print the values in the ascending order.\n",
    "\n",
    "(2) (10 pts) For all the years, calculate the percentage of housing units which are vacant an occupied. Print the results in the following format:\n",
    "\n",
    "Year Vacant Housing Units Occupied Housing Units\n",
    "\n",
    "    2008  30%   70%                          \n",
    "\t2009 ----- -----\n",
    "\t2010 ----- -----\n",
    "    2011 ----- -----\n",
    "\t2012 ----- -----\n",
    "    2013 ----- -----\n",
    "\t2014 ----- -----\n",
    "  \n",
    "  \n",
    "\n",
    "(3) (10 pts) Calculate and print the valued and years in which the highest number of housing units were vacant and occupied. Print the results in the following format:  \n",
    "\n",
    "                              Year\tValue\n",
    "\tVacant Housing Units\t  -----   -----\n",
    "\tOccupied Housing Units\t-----   -----\n",
    "\n",
    "(4) (10 pts) Calculate the harmonic mean of the total housing units and print it out. You can find the information about harmonic mean here: https://ncalculators.com/statistics/harmonic-mean-calculator.htm"
   ]
  },
  {
   "cell_type": "code",
   "execution_count": 28,
   "metadata": {
    "id": "lqGYuHBhcsRH"
   },
   "outputs": [],
   "source": [
    "import pandas as pd\n",
    "\n",
    "# loading dataset into pandas dataframe\n",
    "denton_housing=pd.read_csv('Assignment1_denton_housing.csv')\n"
   ]
  },
  {
   "cell_type": "code",
   "execution_count": 29,
   "metadata": {},
   "outputs": [
    {
     "name": "stdout",
     "output_type": "stream",
     "text": [
      "    year  Difference\n",
      "17  2009      -795.0\n",
      "11  2011      -303.0\n",
      "8   2012      1404.0\n",
      "5   2013      1565.0\n",
      "2   2014      2622.0\n",
      "14  2010      5091.0\n"
     ]
    },
    {
     "name": "stderr",
     "output_type": "stream",
     "text": [
      "C:\\Users\\prane\\AppData\\Local\\Temp\\ipykernel_14456\\2913163624.py:8: SettingWithCopyWarning: \n",
      "A value is trying to be set on a copy of a slice from a DataFrame.\n",
      "Try using .loc[row_indexer,col_indexer] = value instead\n",
      "\n",
      "See the caveats in the documentation: https://pandas.pydata.org/pandas-docs/stable/user_guide/indexing.html#returning-a-view-versus-a-copy\n",
      "  occupied_units_df['Difference'] = occupied_units_df['value'].diff()\n"
     ]
    }
   ],
   "source": [
    "# Sorting the DataFrame by year in ascending order\n",
    "denton_housing = denton_housing.sort_values(by='year')\n",
    "\n",
    "# Filter the DataFrame to select rows where Title_Field is \"Occupied Housing Units\"\n",
    "occupied_units_df = denton_housing[denton_housing['title_field'] == 'Occupied Housing Units']\n",
    "\n",
    "# Calculate the difference in the number of Occupied Housing Units\n",
    "occupied_units_df['Difference'] = occupied_units_df['value'].diff()\n",
    "\n",
    "# Drop the NaN value in the first row (since there's no previous year to calculate the difference)\n",
    "occupied_units_df = occupied_units_df.dropna()\n",
    "\n",
    "# Sort the DataFrame by the difference in ascending order\n",
    "denton_housing_sorted = occupied_units_df.sort_values(by='Difference')\n",
    "\n",
    "# Print the sorted DataFrame\n",
    "print(denton_housing_sorted[['year', 'Difference']])"
   ]
  },
  {
   "cell_type": "code",
   "execution_count": 33,
   "metadata": {},
   "outputs": [
    {
     "name": "stderr",
     "output_type": "stream",
     "text": [
      "C:\\Users\\prane\\AppData\\Local\\Temp\\ipykernel_14456\\1472714935.py:20: FutureWarning: The frame.append method is deprecated and will be removed from pandas in a future version. Use pandas.concat instead.\n",
      "  vacant_df = vacant_df.append({'Year': year, 'Vacant Housing Units': vacant_percentage}, ignore_index=True)\n",
      "C:\\Users\\prane\\AppData\\Local\\Temp\\ipykernel_14456\\1472714935.py:21: FutureWarning: The frame.append method is deprecated and will be removed from pandas in a future version. Use pandas.concat instead.\n",
      "  occupied_df = occupied_df.append({'Year': year, 'Occupied Housing Units': occupied_percentage}, ignore_index=True)\n",
      "C:\\Users\\prane\\AppData\\Local\\Temp\\ipykernel_14456\\1472714935.py:20: FutureWarning: The frame.append method is deprecated and will be removed from pandas in a future version. Use pandas.concat instead.\n",
      "  vacant_df = vacant_df.append({'Year': year, 'Vacant Housing Units': vacant_percentage}, ignore_index=True)\n",
      "C:\\Users\\prane\\AppData\\Local\\Temp\\ipykernel_14456\\1472714935.py:21: FutureWarning: The frame.append method is deprecated and will be removed from pandas in a future version. Use pandas.concat instead.\n",
      "  occupied_df = occupied_df.append({'Year': year, 'Occupied Housing Units': occupied_percentage}, ignore_index=True)\n",
      "C:\\Users\\prane\\AppData\\Local\\Temp\\ipykernel_14456\\1472714935.py:20: FutureWarning: The frame.append method is deprecated and will be removed from pandas in a future version. Use pandas.concat instead.\n",
      "  vacant_df = vacant_df.append({'Year': year, 'Vacant Housing Units': vacant_percentage}, ignore_index=True)\n",
      "C:\\Users\\prane\\AppData\\Local\\Temp\\ipykernel_14456\\1472714935.py:21: FutureWarning: The frame.append method is deprecated and will be removed from pandas in a future version. Use pandas.concat instead.\n",
      "  occupied_df = occupied_df.append({'Year': year, 'Occupied Housing Units': occupied_percentage}, ignore_index=True)\n",
      "C:\\Users\\prane\\AppData\\Local\\Temp\\ipykernel_14456\\1472714935.py:20: FutureWarning: The frame.append method is deprecated and will be removed from pandas in a future version. Use pandas.concat instead.\n",
      "  vacant_df = vacant_df.append({'Year': year, 'Vacant Housing Units': vacant_percentage}, ignore_index=True)\n",
      "C:\\Users\\prane\\AppData\\Local\\Temp\\ipykernel_14456\\1472714935.py:21: FutureWarning: The frame.append method is deprecated and will be removed from pandas in a future version. Use pandas.concat instead.\n",
      "  occupied_df = occupied_df.append({'Year': year, 'Occupied Housing Units': occupied_percentage}, ignore_index=True)\n",
      "C:\\Users\\prane\\AppData\\Local\\Temp\\ipykernel_14456\\1472714935.py:20: FutureWarning: The frame.append method is deprecated and will be removed from pandas in a future version. Use pandas.concat instead.\n",
      "  vacant_df = vacant_df.append({'Year': year, 'Vacant Housing Units': vacant_percentage}, ignore_index=True)\n",
      "C:\\Users\\prane\\AppData\\Local\\Temp\\ipykernel_14456\\1472714935.py:21: FutureWarning: The frame.append method is deprecated and will be removed from pandas in a future version. Use pandas.concat instead.\n",
      "  occupied_df = occupied_df.append({'Year': year, 'Occupied Housing Units': occupied_percentage}, ignore_index=True)\n",
      "C:\\Users\\prane\\AppData\\Local\\Temp\\ipykernel_14456\\1472714935.py:20: FutureWarning: The frame.append method is deprecated and will be removed from pandas in a future version. Use pandas.concat instead.\n",
      "  vacant_df = vacant_df.append({'Year': year, 'Vacant Housing Units': vacant_percentage}, ignore_index=True)\n",
      "C:\\Users\\prane\\AppData\\Local\\Temp\\ipykernel_14456\\1472714935.py:21: FutureWarning: The frame.append method is deprecated and will be removed from pandas in a future version. Use pandas.concat instead.\n",
      "  occupied_df = occupied_df.append({'Year': year, 'Occupied Housing Units': occupied_percentage}, ignore_index=True)\n"
     ]
    },
    {
     "name": "stdout",
     "output_type": "stream",
     "text": [
      "  Year  Vacant Housing Units  Occupied Housing Units\n",
      "2008.0             10.882653               89.117347\n",
      "2009.0              9.071116               90.928884\n",
      "2010.0              8.142556               91.857444\n",
      "2011.0              9.379522               90.620478\n",
      "2012.0              6.677600               93.322400\n",
      "2013.0              8.801788               91.198212\n",
      "2014.0              5.730111               94.269889\n"
     ]
    },
    {
     "name": "stderr",
     "output_type": "stream",
     "text": [
      "C:\\Users\\prane\\AppData\\Local\\Temp\\ipykernel_14456\\1472714935.py:20: FutureWarning: The frame.append method is deprecated and will be removed from pandas in a future version. Use pandas.concat instead.\n",
      "  vacant_df = vacant_df.append({'Year': year, 'Vacant Housing Units': vacant_percentage}, ignore_index=True)\n",
      "C:\\Users\\prane\\AppData\\Local\\Temp\\ipykernel_14456\\1472714935.py:21: FutureWarning: The frame.append method is deprecated and will be removed from pandas in a future version. Use pandas.concat instead.\n",
      "  occupied_df = occupied_df.append({'Year': year, 'Occupied Housing Units': occupied_percentage}, ignore_index=True)\n"
     ]
    }
   ],
   "source": [
    "# Filter the DataFrame to select rows with relevant data\n",
    "relevant_data = denton_housing[denton_housing['title_field'].isin(['Total Housing Units', 'Vacant Housing Units', 'Occupied Housing Units'])]\n",
    "\n",
    "# Initialize empty DataFrames to store vacant and occupied housing units\n",
    "vacant_df = pd.DataFrame(columns=['Year', 'Vacant Housing Units'])\n",
    "occupied_df = pd.DataFrame(columns=['Year', 'Occupied Housing Units'])\n",
    "\n",
    "# Iterate through the rows in the DataFrame\n",
    "for year in relevant_data['year'].unique():\n",
    "    year_data = relevant_data[relevant_data['year'] == year]\n",
    "    total_units = year_data[year_data['title_field'] == 'Total Housing Units']['value'].values[0]\n",
    "    vacant_units = year_data[year_data['title_field'] == 'Vacant Housing Units']['value'].values[0]\n",
    "    occupied_units = year_data[year_data['title_field'] == 'Occupied Housing Units']['value'].values[0]\n",
    "\n",
    "    # Calculate the percentages\n",
    "    vacant_percentage = (vacant_units / total_units) * 100 \n",
    "    occupied_percentage = (occupied_units / total_units) * 100 \n",
    "\n",
    "    # Append the results to the DataFrames\n",
    "    vacant_df = vacant_df.append({'Year': year, 'Vacant Housing Units': vacant_percentage}, ignore_index=True)\n",
    "    occupied_df = occupied_df.append({'Year': year, 'Occupied Housing Units': occupied_percentage}, ignore_index=True)\n",
    "\n",
    "# Merge the DataFrames to create the final result\n",
    "result_df = pd.merge(vacant_df, occupied_df, on='Year')\n",
    "\n",
    "# Print the results\n",
    "print(result_df.fillna('-----').to_string(index=False))\n"
   ]
  },
  {
   "cell_type": "code",
   "execution_count": 34,
   "metadata": {},
   "outputs": [
    {
     "name": "stdout",
     "output_type": "stream",
     "text": [
      "                        Year  Value\n",
      "Vacant Housing Units    2008   4483\n",
      "Occupied Housing Units  2014  46295\n"
     ]
    }
   ],
   "source": [
    "# Filter the DataFrame to select rows with relevant data\n",
    "vacant_data = denton_housing[denton_housing['title_field'] == 'Vacant Housing Units']\n",
    "occupied_data = denton_housing[denton_housing['title_field'] == 'Occupied Housing Units']\n",
    "\n",
    "# Find the year and value with the highest number of vacant and occupied housing units\n",
    "max_vacant = vacant_data.loc[vacant_data['value'].idxmax()]\n",
    "max_occupied = occupied_data.loc[occupied_data['value'].idxmax()]\n",
    "\n",
    "# Create a DataFrame for the results\n",
    "result_df = pd.DataFrame({'Year': [max_vacant['year'], max_occupied['year']],\n",
    "                          'Value': [max_vacant['value'], max_occupied['value']]},\n",
    "                          index=['Vacant Housing Units', 'Occupied Housing Units'])\n",
    "\n",
    "# Print the results\n",
    "print(result_df.to_string())"
   ]
  },
  {
   "cell_type": "code",
   "execution_count": 36,
   "metadata": {},
   "outputs": [
    {
     "name": "stdout",
     "output_type": "stream",
     "text": [
      "Harmonic Mean of Total Housing Units: 44398.28543969185\n"
     ]
    }
   ],
   "source": [
    "from scipy.stats import hmean\n",
    "# Filter the DataFrame to select rows with Total Housing Units\n",
    "total_housing_units = denton_housing[denton_housing['title_field'] == 'Total Housing Units']['value']\n",
    "\n",
    "# Calculate the harmonic mean\n",
    "harmonic_mean = hmean(total_housing_units)\n",
    "\n",
    "# Print the harmonic mean\n",
    "print(\"Harmonic Mean of Total Housing Units:\", harmonic_mean)"
   ]
  },
  {
   "cell_type": "code",
   "execution_count": null,
   "metadata": {},
   "outputs": [],
   "source": []
  }
 ],
 "metadata": {
  "colab": {
   "provenance": []
  },
  "kernelspec": {
   "display_name": "Python 3 (ipykernel)",
   "language": "python",
   "name": "python3"
  },
  "language_info": {
   "codemirror_mode": {
    "name": "ipython",
    "version": 3
   },
   "file_extension": ".py",
   "mimetype": "text/x-python",
   "name": "python",
   "nbconvert_exporter": "python",
   "pygments_lexer": "ipython3",
   "version": "3.9.12"
  }
 },
 "nbformat": 4,
 "nbformat_minor": 1
}
