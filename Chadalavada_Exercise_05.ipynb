{
 "cells": [
  {
   "cell_type": "markdown",
   "metadata": {
    "colab_type": "text",
    "id": "view-in-github"
   },
   "source": [
    "<a href=\"https://colab.research.google.com/github/Devendarreddybathini/Devendarreddy_INFO5731_spring2023/blob/main/In_class_exercise_05_04182023_ipynb.ipynb\" target=\"_parent\"><img src=\"https://colab.research.google.com/assets/colab-badge.svg\" alt=\"Open In Colab\"/></a>"
   ]
  },
  {
   "cell_type": "markdown",
   "metadata": {
    "id": "KxIf-RKI41nD"
   },
   "source": [
    "# **The fifth in-class-exercise (40 points in total, 4/18/2023)**"
   ]
  },
  {
   "cell_type": "markdown",
   "metadata": {
    "id": "ItoCzP7n41nF"
   },
   "source": [
    "(20 points) The purpose of the question is to practice different machine learning algorithms for text classification as well as the performance evaluation. In addition, you are requried to conduct *10 fold cross validation (https://scikit-learn.org/stable/modules/cross_validation.html)* in the training. \n",
    "\n",
    "The dataset can be download from canvas. The dataset contains two files train data and test data for sentiment analysis in IMDB review, it has two categories: 1 represents positive and 0 represents negative. You need to split the training data into training and validate data (80% for training and 20% for validation, https://towardsdatascience.com/train-test-split-and-cross-validation-in-python-80b61beca4b6) and perform 10 fold cross validation while training the classifier. The final trained model was final evaluated on the test data. \n",
    "\n",
    "Algorithms:\n",
    "\n",
    "(1) MultinominalNB\n",
    "\n",
    "(2) SVM \n",
    "\n",
    "(3) KNN \n",
    "\n",
    "(4) Decision tree\n",
    "\n",
    "(5) Random Forest\n",
    "\n",
    "(6) XGBoost\n",
    "\n",
    "(7) Word2Vec\n",
    "\n",
    "(8) BERT\n",
    "\n",
    "Evaluation measurement:\n",
    "\n",
    "(1) Accuracy\n",
    "\n",
    "(2) Recall\n",
    "\n",
    "(3) Precison \n",
    "\n",
    "(4) F-1 score"
   ]
  },
  {
   "cell_type": "code",
   "execution_count": null,
   "metadata": {
    "colab": {
     "base_uri": "https://localhost:8080/",
     "height": 423
    },
    "id": "u5wV9Wwg41nH",
    "outputId": "ef09da58-74b1-404a-b7d1-65e4e05d3a8d"
   },
   "outputs": [
    {
     "data": {
      "text/html": [
       "\n",
       "  <div id=\"df-f7361e18-9dfa-4db4-90ba-b85c003af477\">\n",
       "    <div class=\"colab-df-container\">\n",
       "      <div>\n",
       "<style scoped>\n",
       "    .dataframe tbody tr th:only-of-type {\n",
       "        vertical-align: middle;\n",
       "    }\n",
       "\n",
       "    .dataframe tbody tr th {\n",
       "        vertical-align: top;\n",
       "    }\n",
       "\n",
       "    .dataframe thead th {\n",
       "        text-align: right;\n",
       "    }\n",
       "</style>\n",
       "<table border=\"1\" class=\"dataframe\">\n",
       "  <thead>\n",
       "    <tr style=\"text-align: right;\">\n",
       "      <th></th>\n",
       "      <th>sentiment</th>\n",
       "      <th>text</th>\n",
       "    </tr>\n",
       "  </thead>\n",
       "  <tbody>\n",
       "    <tr>\n",
       "      <th>0</th>\n",
       "      <td>1</td>\n",
       "      <td>a stirring , funny and finally transporting re...</td>\n",
       "    </tr>\n",
       "    <tr>\n",
       "      <th>1</th>\n",
       "      <td>0</td>\n",
       "      <td>apparently reassembled from the cutting-room f...</td>\n",
       "    </tr>\n",
       "    <tr>\n",
       "      <th>2</th>\n",
       "      <td>0</td>\n",
       "      <td>they presume their audience wo n't sit still f...</td>\n",
       "    </tr>\n",
       "    <tr>\n",
       "      <th>3</th>\n",
       "      <td>1</td>\n",
       "      <td>this is a visually stunning rumination on love...</td>\n",
       "    </tr>\n",
       "    <tr>\n",
       "      <th>4</th>\n",
       "      <td>1</td>\n",
       "      <td>jonathan parker 's bartleby should have been t...</td>\n",
       "    </tr>\n",
       "    <tr>\n",
       "      <th>...</th>\n",
       "      <td>...</td>\n",
       "      <td>...</td>\n",
       "    </tr>\n",
       "    <tr>\n",
       "      <th>6915</th>\n",
       "      <td>1</td>\n",
       "      <td>painful , horrifying and oppressively tragic ,...</td>\n",
       "    </tr>\n",
       "    <tr>\n",
       "      <th>6916</th>\n",
       "      <td>0</td>\n",
       "      <td>take care is nicely performed by a quintet of ...</td>\n",
       "    </tr>\n",
       "    <tr>\n",
       "      <th>6917</th>\n",
       "      <td>0</td>\n",
       "      <td>the script covers huge , heavy topics in a bla...</td>\n",
       "    </tr>\n",
       "    <tr>\n",
       "      <th>6918</th>\n",
       "      <td>0</td>\n",
       "      <td>a seriously bad film with seriously warped log...</td>\n",
       "    </tr>\n",
       "    <tr>\n",
       "      <th>6919</th>\n",
       "      <td>1</td>\n",
       "      <td>a deliciously nonsensical comedy about a city ...</td>\n",
       "    </tr>\n",
       "  </tbody>\n",
       "</table>\n",
       "<p>6920 rows × 2 columns</p>\n",
       "</div>\n",
       "      <button class=\"colab-df-convert\" onclick=\"convertToInteractive('df-f7361e18-9dfa-4db4-90ba-b85c003af477')\"\n",
       "              title=\"Convert this dataframe to an interactive table.\"\n",
       "              style=\"display:none;\">\n",
       "        \n",
       "  <svg xmlns=\"http://www.w3.org/2000/svg\" height=\"24px\"viewBox=\"0 0 24 24\"\n",
       "       width=\"24px\">\n",
       "    <path d=\"M0 0h24v24H0V0z\" fill=\"none\"/>\n",
       "    <path d=\"M18.56 5.44l.94 2.06.94-2.06 2.06-.94-2.06-.94-.94-2.06-.94 2.06-2.06.94zm-11 1L8.5 8.5l.94-2.06 2.06-.94-2.06-.94L8.5 2.5l-.94 2.06-2.06.94zm10 10l.94 2.06.94-2.06 2.06-.94-2.06-.94-.94-2.06-.94 2.06-2.06.94z\"/><path d=\"M17.41 7.96l-1.37-1.37c-.4-.4-.92-.59-1.43-.59-.52 0-1.04.2-1.43.59L10.3 9.45l-7.72 7.72c-.78.78-.78 2.05 0 2.83L4 21.41c.39.39.9.59 1.41.59.51 0 1.02-.2 1.41-.59l7.78-7.78 2.81-2.81c.8-.78.8-2.07 0-2.86zM5.41 20L4 18.59l7.72-7.72 1.47 1.35L5.41 20z\"/>\n",
       "  </svg>\n",
       "      </button>\n",
       "      \n",
       "  <style>\n",
       "    .colab-df-container {\n",
       "      display:flex;\n",
       "      flex-wrap:wrap;\n",
       "      gap: 12px;\n",
       "    }\n",
       "\n",
       "    .colab-df-convert {\n",
       "      background-color: #E8F0FE;\n",
       "      border: none;\n",
       "      border-radius: 50%;\n",
       "      cursor: pointer;\n",
       "      display: none;\n",
       "      fill: #1967D2;\n",
       "      height: 32px;\n",
       "      padding: 0 0 0 0;\n",
       "      width: 32px;\n",
       "    }\n",
       "\n",
       "    .colab-df-convert:hover {\n",
       "      background-color: #E2EBFA;\n",
       "      box-shadow: 0px 1px 2px rgba(60, 64, 67, 0.3), 0px 1px 3px 1px rgba(60, 64, 67, 0.15);\n",
       "      fill: #174EA6;\n",
       "    }\n",
       "\n",
       "    [theme=dark] .colab-df-convert {\n",
       "      background-color: #3B4455;\n",
       "      fill: #D2E3FC;\n",
       "    }\n",
       "\n",
       "    [theme=dark] .colab-df-convert:hover {\n",
       "      background-color: #434B5C;\n",
       "      box-shadow: 0px 1px 3px 1px rgba(0, 0, 0, 0.15);\n",
       "      filter: drop-shadow(0px 1px 2px rgba(0, 0, 0, 0.3));\n",
       "      fill: #FFFFFF;\n",
       "    }\n",
       "  </style>\n",
       "\n",
       "      <script>\n",
       "        const buttonEl =\n",
       "          document.querySelector('#df-f7361e18-9dfa-4db4-90ba-b85c003af477 button.colab-df-convert');\n",
       "        buttonEl.style.display =\n",
       "          google.colab.kernel.accessAllowed ? 'block' : 'none';\n",
       "\n",
       "        async function convertToInteractive(key) {\n",
       "          const element = document.querySelector('#df-f7361e18-9dfa-4db4-90ba-b85c003af477');\n",
       "          const dataTable =\n",
       "            await google.colab.kernel.invokeFunction('convertToInteractive',\n",
       "                                                     [key], {});\n",
       "          if (!dataTable) return;\n",
       "\n",
       "          const docLinkHtml = 'Like what you see? Visit the ' +\n",
       "            '<a target=\"_blank\" href=https://colab.research.google.com/notebooks/data_table.ipynb>data table notebook</a>'\n",
       "            + ' to learn more about interactive tables.';\n",
       "          element.innerHTML = '';\n",
       "          dataTable['output_type'] = 'display_data';\n",
       "          await google.colab.output.renderOutput(dataTable, element);\n",
       "          const docLink = document.createElement('div');\n",
       "          docLink.innerHTML = docLinkHtml;\n",
       "          element.appendChild(docLink);\n",
       "        }\n",
       "      </script>\n",
       "    </div>\n",
       "  </div>\n",
       "  "
      ],
      "text/plain": [
       "      sentiment                                               text\n",
       "0             1  a stirring , funny and finally transporting re...\n",
       "1             0  apparently reassembled from the cutting-room f...\n",
       "2             0  they presume their audience wo n't sit still f...\n",
       "3             1  this is a visually stunning rumination on love...\n",
       "4             1  jonathan parker 's bartleby should have been t...\n",
       "...         ...                                                ...\n",
       "6915          1  painful , horrifying and oppressively tragic ,...\n",
       "6916          0  take care is nicely performed by a quintet of ...\n",
       "6917          0  the script covers huge , heavy topics in a bla...\n",
       "6918          0  a seriously bad film with seriously warped log...\n",
       "6919          1  a deliciously nonsensical comedy about a city ...\n",
       "\n",
       "[6920 rows x 2 columns]"
      ]
     },
     "execution_count": 1,
     "metadata": {},
     "output_type": "execute_result"
    }
   ],
   "source": [
    "#Write your code here.\n",
    "\n",
    "import pandas as pd\n",
    "\n",
    "#Load and format the training data into a data frame\n",
    "sentiments = []\n",
    "texts = []\n",
    "\n",
    "with open('/content/stsa-train.txt', 'r') as f:\n",
    "    for line in f:\n",
    "        parts = line.strip().split(' ', 1)\n",
    "        sentiment = int(parts[0])\n",
    "        text = parts[1]\n",
    "        sentiments.append(sentiment)\n",
    "        texts.append(text)\n",
    "\n",
    "train_data = pd.DataFrame({'sentiment': sentiments, 'text': texts})\n",
    "\n",
    "train_data"
   ]
  },
  {
   "cell_type": "code",
   "execution_count": null,
   "metadata": {
    "colab": {
     "base_uri": "https://localhost:8080/",
     "height": 423
    },
    "id": "usoLZmtG41nI",
    "outputId": "1a1d15a3-60fb-40e9-eb9a-03f8194726eb"
   },
   "outputs": [
    {
     "data": {
      "text/html": [
       "\n",
       "  <div id=\"df-58f5be12-f5ea-41a4-8a74-ae382cd88e90\">\n",
       "    <div class=\"colab-df-container\">\n",
       "      <div>\n",
       "<style scoped>\n",
       "    .dataframe tbody tr th:only-of-type {\n",
       "        vertical-align: middle;\n",
       "    }\n",
       "\n",
       "    .dataframe tbody tr th {\n",
       "        vertical-align: top;\n",
       "    }\n",
       "\n",
       "    .dataframe thead th {\n",
       "        text-align: right;\n",
       "    }\n",
       "</style>\n",
       "<table border=\"1\" class=\"dataframe\">\n",
       "  <thead>\n",
       "    <tr style=\"text-align: right;\">\n",
       "      <th></th>\n",
       "      <th>sentiment</th>\n",
       "      <th>text</th>\n",
       "    </tr>\n",
       "  </thead>\n",
       "  <tbody>\n",
       "    <tr>\n",
       "      <th>0</th>\n",
       "      <td>0</td>\n",
       "      <td>no movement , no yuks , not much of anything .</td>\n",
       "    </tr>\n",
       "    <tr>\n",
       "      <th>1</th>\n",
       "      <td>0</td>\n",
       "      <td>a gob of drivel so sickly sweet , even the eag...</td>\n",
       "    </tr>\n",
       "    <tr>\n",
       "      <th>2</th>\n",
       "      <td>0</td>\n",
       "      <td>gangs of new york is an unapologetic mess , wh...</td>\n",
       "    </tr>\n",
       "    <tr>\n",
       "      <th>3</th>\n",
       "      <td>0</td>\n",
       "      <td>we never really feel involved with the story ,...</td>\n",
       "    </tr>\n",
       "    <tr>\n",
       "      <th>4</th>\n",
       "      <td>1</td>\n",
       "      <td>this is one of polanski 's best films .</td>\n",
       "    </tr>\n",
       "    <tr>\n",
       "      <th>...</th>\n",
       "      <td>...</td>\n",
       "      <td>...</td>\n",
       "    </tr>\n",
       "    <tr>\n",
       "      <th>1816</th>\n",
       "      <td>0</td>\n",
       "      <td>an often-deadly boring , strange reading of a ...</td>\n",
       "    </tr>\n",
       "    <tr>\n",
       "      <th>1817</th>\n",
       "      <td>0</td>\n",
       "      <td>the problem with concept films is that if the ...</td>\n",
       "    </tr>\n",
       "    <tr>\n",
       "      <th>1818</th>\n",
       "      <td>0</td>\n",
       "      <td>safe conduct , however ambitious and well-inte...</td>\n",
       "    </tr>\n",
       "    <tr>\n",
       "      <th>1819</th>\n",
       "      <td>0</td>\n",
       "      <td>a film made with as little wit , interest , an...</td>\n",
       "    </tr>\n",
       "    <tr>\n",
       "      <th>1820</th>\n",
       "      <td>0</td>\n",
       "      <td>but here 's the real damn : it is n't funny , ...</td>\n",
       "    </tr>\n",
       "  </tbody>\n",
       "</table>\n",
       "<p>1821 rows × 2 columns</p>\n",
       "</div>\n",
       "      <button class=\"colab-df-convert\" onclick=\"convertToInteractive('df-58f5be12-f5ea-41a4-8a74-ae382cd88e90')\"\n",
       "              title=\"Convert this dataframe to an interactive table.\"\n",
       "              style=\"display:none;\">\n",
       "        \n",
       "  <svg xmlns=\"http://www.w3.org/2000/svg\" height=\"24px\"viewBox=\"0 0 24 24\"\n",
       "       width=\"24px\">\n",
       "    <path d=\"M0 0h24v24H0V0z\" fill=\"none\"/>\n",
       "    <path d=\"M18.56 5.44l.94 2.06.94-2.06 2.06-.94-2.06-.94-.94-2.06-.94 2.06-2.06.94zm-11 1L8.5 8.5l.94-2.06 2.06-.94-2.06-.94L8.5 2.5l-.94 2.06-2.06.94zm10 10l.94 2.06.94-2.06 2.06-.94-2.06-.94-.94-2.06-.94 2.06-2.06.94z\"/><path d=\"M17.41 7.96l-1.37-1.37c-.4-.4-.92-.59-1.43-.59-.52 0-1.04.2-1.43.59L10.3 9.45l-7.72 7.72c-.78.78-.78 2.05 0 2.83L4 21.41c.39.39.9.59 1.41.59.51 0 1.02-.2 1.41-.59l7.78-7.78 2.81-2.81c.8-.78.8-2.07 0-2.86zM5.41 20L4 18.59l7.72-7.72 1.47 1.35L5.41 20z\"/>\n",
       "  </svg>\n",
       "      </button>\n",
       "      \n",
       "  <style>\n",
       "    .colab-df-container {\n",
       "      display:flex;\n",
       "      flex-wrap:wrap;\n",
       "      gap: 12px;\n",
       "    }\n",
       "\n",
       "    .colab-df-convert {\n",
       "      background-color: #E8F0FE;\n",
       "      border: none;\n",
       "      border-radius: 50%;\n",
       "      cursor: pointer;\n",
       "      display: none;\n",
       "      fill: #1967D2;\n",
       "      height: 32px;\n",
       "      padding: 0 0 0 0;\n",
       "      width: 32px;\n",
       "    }\n",
       "\n",
       "    .colab-df-convert:hover {\n",
       "      background-color: #E2EBFA;\n",
       "      box-shadow: 0px 1px 2px rgba(60, 64, 67, 0.3), 0px 1px 3px 1px rgba(60, 64, 67, 0.15);\n",
       "      fill: #174EA6;\n",
       "    }\n",
       "\n",
       "    [theme=dark] .colab-df-convert {\n",
       "      background-color: #3B4455;\n",
       "      fill: #D2E3FC;\n",
       "    }\n",
       "\n",
       "    [theme=dark] .colab-df-convert:hover {\n",
       "      background-color: #434B5C;\n",
       "      box-shadow: 0px 1px 3px 1px rgba(0, 0, 0, 0.15);\n",
       "      filter: drop-shadow(0px 1px 2px rgba(0, 0, 0, 0.3));\n",
       "      fill: #FFFFFF;\n",
       "    }\n",
       "  </style>\n",
       "\n",
       "      <script>\n",
       "        const buttonEl =\n",
       "          document.querySelector('#df-58f5be12-f5ea-41a4-8a74-ae382cd88e90 button.colab-df-convert');\n",
       "        buttonEl.style.display =\n",
       "          google.colab.kernel.accessAllowed ? 'block' : 'none';\n",
       "\n",
       "        async function convertToInteractive(key) {\n",
       "          const element = document.querySelector('#df-58f5be12-f5ea-41a4-8a74-ae382cd88e90');\n",
       "          const dataTable =\n",
       "            await google.colab.kernel.invokeFunction('convertToInteractive',\n",
       "                                                     [key], {});\n",
       "          if (!dataTable) return;\n",
       "\n",
       "          const docLinkHtml = 'Like what you see? Visit the ' +\n",
       "            '<a target=\"_blank\" href=https://colab.research.google.com/notebooks/data_table.ipynb>data table notebook</a>'\n",
       "            + ' to learn more about interactive tables.';\n",
       "          element.innerHTML = '';\n",
       "          dataTable['output_type'] = 'display_data';\n",
       "          await google.colab.output.renderOutput(dataTable, element);\n",
       "          const docLink = document.createElement('div');\n",
       "          docLink.innerHTML = docLinkHtml;\n",
       "          element.appendChild(docLink);\n",
       "        }\n",
       "      </script>\n",
       "    </div>\n",
       "  </div>\n",
       "  "
      ],
      "text/plain": [
       "      sentiment                                               text\n",
       "0             0     no movement , no yuks , not much of anything .\n",
       "1             0  a gob of drivel so sickly sweet , even the eag...\n",
       "2             0  gangs of new york is an unapologetic mess , wh...\n",
       "3             0  we never really feel involved with the story ,...\n",
       "4             1            this is one of polanski 's best films .\n",
       "...         ...                                                ...\n",
       "1816          0  an often-deadly boring , strange reading of a ...\n",
       "1817          0  the problem with concept films is that if the ...\n",
       "1818          0  safe conduct , however ambitious and well-inte...\n",
       "1819          0  a film made with as little wit , interest , an...\n",
       "1820          0  but here 's the real damn : it is n't funny , ...\n",
       "\n",
       "[1821 rows x 2 columns]"
      ]
     },
     "execution_count": 2,
     "metadata": {},
     "output_type": "execute_result"
    }
   ],
   "source": [
    "sentiments = []\n",
    "texts = []\n",
    "\n",
    "with open('/content/stsa-test.txt', 'r') as f:\n",
    "    for line in f:\n",
    "        parts = line.strip().split(' ', 1)\n",
    "        sentiment = int(parts[0])\n",
    "        text = parts[1]\n",
    "        sentiments.append(sentiment)\n",
    "        texts.append(text)\n",
    "\n",
    "test_data = pd.DataFrame({'sentiment': sentiments, 'text': texts})\n",
    "test_data"
   ]
  },
  {
   "cell_type": "markdown",
   "metadata": {
    "id": "-qLwlYNY41nJ"
   },
   "source": [
    "### Preprocess the data:"
   ]
  },
  {
   "cell_type": "code",
   "execution_count": null,
   "metadata": {
    "colab": {
     "base_uri": "https://localhost:8080/"
    },
    "id": "Xh2Of8So41nJ",
    "outputId": "eb080d72-620e-43a6-ea5a-e0bf496a914b"
   },
   "outputs": [
    {
     "name": "stderr",
     "output_type": "stream",
     "text": [
      "[nltk_data] Downloading package stopwords to /root/nltk_data...\n",
      "[nltk_data]   Package stopwords is already up-to-date!\n",
      "[nltk_data] Downloading package wordnet to /root/nltk_data...\n",
      "[nltk_data]   Package wordnet is already up-to-date!\n"
     ]
    }
   ],
   "source": [
    "import nltk\n",
    "nltk.download('stopwords')\n",
    "nltk.download('wordnet')\n",
    "from nltk.tokenize import RegexpTokenizer\n",
    "from nltk.stem import WordNetLemmatizer, PorterStemmer\n",
    "from nltk.corpus import stopwords\n",
    "from sklearn.feature_extraction.text import CountVectorizer\n",
    "\n",
    "import re\n",
    "\n",
    "lemmatizer = WordNetLemmatizer()\n",
    "stemmer = PorterStemmer()\n",
    "\n",
    "def preprocess(sentence):\n",
    "    sentence = str(sentence)\n",
    "    sentence = sentence.lower()\n",
    "    sentence = sentence.replace('{html}',\"\")\n",
    "    cleanr = re.compile('<.*?>')\n",
    "    cleantext = re.sub(cleanr, '', sentence)\n",
    "    rem_url = re.sub(r'http\\S+', '', cleantext)\n",
    "    rem_num = re.sub('[0-9]+', '', rem_url)\n",
    "    tokenizer = RegexpTokenizer(r'\\w+')\n",
    "    tokens = tokenizer.tokenize(rem_num)\n",
    "    filtered_words = [w for w in tokens if len(w) > 2 if not w in stopwords.words('english')]\n",
    "    stem_words = [stemmer.stem(w) for w in filtered_words]\n",
    "    lemma_words = [lemmatizer.lemmatize(w) for w in stem_words]\n",
    "    return \" \".join(lemma_words)\n",
    "\n",
    "# Apply the preprocessing to the training data\n",
    "train_data['text'] = train_data['text'].apply(preprocess)\n",
    "\n",
    "# Apply the preprocessing to the test data\n",
    "test_data['text'] = test_data['text'].apply(preprocess)\n",
    "\n",
    "# Convert the text data into a numerical representation using Bag of Words\n",
    "vectorizer = CountVectorizer()\n",
    "X_train = vectorizer.fit_transform(train_data['text'])\n",
    "y_train = train_data['sentiment']\n",
    "X_test = vectorizer.transform(test_data['text'])\n",
    "y_test = test_data['sentiment']\n"
   ]
  },
  {
   "cell_type": "markdown",
   "metadata": {
    "id": "X1PeSJCq41nK"
   },
   "source": [
    "### Split the Training Data"
   ]
  },
  {
   "cell_type": "code",
   "execution_count": null,
   "metadata": {
    "id": "t_nr0Wn_41nL"
   },
   "outputs": [],
   "source": [
    "from sklearn.model_selection import train_test_split\n",
    "\n",
    "# Split the training data into training and validation data with a ratio of 80:20\n",
    "X_train, X_val, y_train, y_val = train_test_split(X_train, y_train, test_size=0.2, random_state=42)\n"
   ]
  },
  {
   "cell_type": "markdown",
   "metadata": {
    "id": "fE8lXhfc41nL"
   },
   "source": [
    "### Train the classifiers:"
   ]
  },
  {
   "cell_type": "code",
   "execution_count": null,
   "metadata": {
    "id": "4ZF2uHLf41nL"
   },
   "outputs": [],
   "source": [
    "from sklearn.model_selection import cross_val_score\n",
    "from sklearn.naive_bayes import MultinomialNB\n",
    "from sklearn.svm import SVC\n",
    "from sklearn.neighbors import KNeighborsClassifier\n",
    "from sklearn.tree import DecisionTreeClassifier\n",
    "from sklearn.ensemble import RandomForestClassifier\n",
    "from xgboost import XGBClassifier\n",
    "from sklearn.metrics import classification_report"
   ]
  },
  {
   "cell_type": "code",
   "execution_count": null,
   "metadata": {
    "colab": {
     "base_uri": "https://localhost:8080/"
    },
    "id": "ZJowmv4-41nM",
    "outputId": "83790071-a4f8-4db0-ba44-49d9c440bded"
   },
   "outputs": [
    {
     "name": "stdout",
     "output_type": "stream",
     "text": [
      "Multinomial Naive Bayes Mean accuracy:  0.7785433572048753\n",
      "Multinomial Naive Bayes Classification Report:\n",
      "               precision    recall  f1-score   support\n",
      "\n",
      "           0       0.81      0.74      0.77       671\n",
      "           1       0.77      0.84      0.81       713\n",
      "\n",
      "    accuracy                           0.79      1384\n",
      "   macro avg       0.79      0.79      0.79      1384\n",
      "weighted avg       0.79      0.79      0.79      1384\n",
      "\n"
     ]
    }
   ],
   "source": [
    "# Create the Multinomial Naive Bayes model and perform 10-fold cross-validation on the training data\n",
    "nb = MultinomialNB()\n",
    "scores = cross_val_score(nb, X_train, y_train, cv=10, scoring='accuracy')\n",
    "print(\"Multinomial Naive Bayes Mean accuracy: \", scores.mean())\n",
    "nb.fit(X_train, y_train)\n",
    "y_pred_nb = nb.predict(X_val)\n",
    "print(\"Multinomial Naive Bayes Classification Report:\\n\", classification_report(y_val, y_pred_nb))"
   ]
  },
  {
   "cell_type": "code",
   "execution_count": null,
   "metadata": {
    "colab": {
     "base_uri": "https://localhost:8080/"
    },
    "id": "OzqpK-Qj41nM",
    "outputId": "554375ef-c692-4928-dde0-ad03c06b035a"
   },
   "outputs": [
    {
     "name": "stdout",
     "output_type": "stream",
     "text": [
      "SVM Mean accuracy:  0.7584850601575914\n",
      "SVM Classification Report:\n",
      "               precision    recall  f1-score   support\n",
      "\n",
      "           0       0.81      0.73      0.77       671\n",
      "           1       0.77      0.84      0.80       713\n",
      "\n",
      "    accuracy                           0.79      1384\n",
      "   macro avg       0.79      0.78      0.78      1384\n",
      "weighted avg       0.79      0.79      0.78      1384\n",
      "\n"
     ]
    }
   ],
   "source": [
    "# Create the SVM model and perform 10-fold cross-validation on the training data\n",
    "svm = SVC()\n",
    "scores = cross_val_score(svm, X_train, y_train, cv=10, scoring='accuracy')\n",
    "print(\"SVM Mean accuracy: \", scores.mean())\n",
    "svm.fit(X_train, y_train)\n",
    "y_pred_svm = svm.predict(X_val)\n",
    "print(\"SVM Classification Report:\\n\", classification_report(y_val, y_pred_svm))"
   ]
  },
  {
   "cell_type": "code",
   "execution_count": null,
   "metadata": {
    "colab": {
     "base_uri": "https://localhost:8080/"
    },
    "id": "Sl4oQFeS41nM",
    "outputId": "021d761b-8fda-4b70-f59d-2e437d85bbdd"
   },
   "outputs": [
    {
     "name": "stdout",
     "output_type": "stream",
     "text": [
      "KNN Mean accuracy:  0.5765881538833144\n",
      "KNN Classification Report:\n",
      "               precision    recall  f1-score   support\n",
      "\n",
      "           0       0.56      0.61      0.58       671\n",
      "           1       0.60      0.54      0.57       713\n",
      "\n",
      "    accuracy                           0.58      1384\n",
      "   macro avg       0.58      0.58      0.58      1384\n",
      "weighted avg       0.58      0.58      0.58      1384\n",
      "\n"
     ]
    }
   ],
   "source": [
    "# Create the KNN model and perform 10-fold cross-validation on the training data\n",
    "knn = KNeighborsClassifier()\n",
    "scores = cross_val_score(knn, X_train, y_train, cv=10, scoring='accuracy')\n",
    "print(\"KNN Mean accuracy: \", scores.mean())\n",
    "knn.fit(X_train, y_train)\n",
    "y_pred_knn = knn.predict(X_val)\n",
    "print(\"KNN Classification Report:\\n\", classification_report(y_val, y_pred_knn))"
   ]
  },
  {
   "cell_type": "code",
   "execution_count": null,
   "metadata": {
    "colab": {
     "base_uri": "https://localhost:8080/"
    },
    "id": "Z2V_tKBe41nN",
    "outputId": "53552b74-2f17-4b2e-e0f4-ca02138b7684"
   },
   "outputs": [
    {
     "name": "stdout",
     "output_type": "stream",
     "text": [
      "Decision Tree Mean accuracy:  0.6661828164067345\n",
      "Classification Report for Decision Tree Model: \n",
      "               precision    recall  f1-score   support\n",
      "\n",
      "           0       0.69      0.66      0.67       671\n",
      "           1       0.69      0.72      0.70       713\n",
      "\n",
      "    accuracy                           0.69      1384\n",
      "   macro avg       0.69      0.69      0.69      1384\n",
      "weighted avg       0.69      0.69      0.69      1384\n",
      "\n"
     ]
    }
   ],
   "source": [
    "# Create the Decision Tree model and perform 10-fold cross-validation on the training data\n",
    "dt = DecisionTreeClassifier()\n",
    "scores = cross_val_score(dt, X_train, y_train, cv=10, scoring='accuracy')\n",
    "print(\"Decision Tree Mean accuracy: \", scores.mean())\n",
    "\n",
    "dt.fit(X_train, y_train)\n",
    "y_pred = dt.predict(X_val)\n",
    "print(\"Classification Report for Decision Tree Model: \\n\", classification_report(y_val, y_pred))"
   ]
  },
  {
   "cell_type": "code",
   "execution_count": null,
   "metadata": {
    "colab": {
     "base_uri": "https://localhost:8080/"
    },
    "id": "eB7PHhNm41nN",
    "outputId": "c3a4e058-f372-41fe-a689-e3418d9c9026"
   },
   "outputs": [
    {
     "name": "stdout",
     "output_type": "stream",
     "text": [
      "Random Forest Mean accuracy:  0.7333788132992994\n",
      "Classification Report for Decision Tree Model: \n",
      "               precision    recall  f1-score   support\n",
      "\n",
      "           0       0.78      0.68      0.72       671\n",
      "           1       0.73      0.82      0.77       713\n",
      "\n",
      "    accuracy                           0.75      1384\n",
      "   macro avg       0.75      0.75      0.75      1384\n",
      "weighted avg       0.75      0.75      0.75      1384\n",
      "\n"
     ]
    }
   ],
   "source": [
    "# Create the Random Forest model and perform 10-fold cross-validation on the training data\n",
    "rf = RandomForestClassifier()\n",
    "scores = cross_val_score(rf, X_train, y_train, cv=10, scoring='accuracy')\n",
    "print(\"Random Forest Mean accuracy: \", scores.mean())\n",
    "rf.fit(X_train, y_train)\n",
    "y_pred_rf = rf.predict(X_val)\n",
    "print(\"Classification Report for Decision Tree Model: \\n\", classification_report(y_val, y_pred_rf))"
   ]
  },
  {
   "cell_type": "code",
   "execution_count": null,
   "metadata": {
    "colab": {
     "base_uri": "https://localhost:8080/"
    },
    "id": "Iq4Yfk0P41nN",
    "outputId": "46b5b926-7c09-433b-9ba6-4c64a2d7c074"
   },
   "outputs": [
    {
     "name": "stdout",
     "output_type": "stream",
     "text": [
      "XGBoost Mean accuracy:  0.7162232914003696\n",
      "Classification Report for Decision Tree Model: \n",
      "               precision    recall  f1-score   support\n",
      "\n",
      "           0       0.72      0.72      0.72       671\n",
      "           1       0.74      0.74      0.74       713\n",
      "\n",
      "    accuracy                           0.73      1384\n",
      "   macro avg       0.73      0.73      0.73      1384\n",
      "weighted avg       0.73      0.73      0.73      1384\n",
      "\n"
     ]
    }
   ],
   "source": [
    "# Create the XGBoost model and perform 10-fold cross-validation on the training data\n",
    "xgb = XGBClassifier()\n",
    "scores = cross_val_score(xgb, X_train, y_train, cv=10, scoring='accuracy')\n",
    "print(\"XGBoost Mean accuracy: \", scores.mean())\n",
    "xgb.fit(X_train, y_train)\n",
    "y_pred_xgb = xgb.predict(X_val)\n",
    "print(\"Classification Report for Decision Tree Model: \\n\", classification_report(y_val, y_pred_xgb))"
   ]
  },
  {
   "cell_type": "code",
   "execution_count": null,
   "metadata": {
    "colab": {
     "base_uri": "https://localhost:8080/"
    },
    "id": "kMbPbwte41nO",
    "outputId": "8c2a323e-f083-4708-ab4b-affb0a2a0551"
   },
   "outputs": [
    {
     "name": "stderr",
     "output_type": "stream",
     "text": [
      "[nltk_data] Downloading package punkt to /root/nltk_data...\n",
      "[nltk_data]   Package punkt is already up-to-date!\n"
     ]
    },
    {
     "name": "stdout",
     "output_type": "stream",
     "text": [
      "Word2Vec<vocab=6899, vector_size=300, alpha=0.025>\n",
      "[-2.7902445e-04 -3.2790855e-03 -1.0501762e-03  4.1931868e-05\n",
      "  1.8708174e-03 -2.8985785e-03  1.2176129e-03 -3.1945610e-03\n",
      "  1.6634866e-03  2.5917320e-03  1.8078133e-03  2.8512545e-03\n",
      " -3.2797336e-04 -2.6543073e-03  1.3295221e-03  1.1467402e-03\n",
      "  2.2770402e-03  2.2057907e-03 -1.3995854e-03  1.6731803e-03\n",
      "  2.3202591e-03  1.2234731e-03 -3.3294440e-03 -3.0530309e-03\n",
      " -2.4362532e-03  1.4558275e-03  2.7001460e-04 -2.3820950e-03\n",
      " -8.9830277e-04  2.3827453e-03  1.3769603e-03 -5.2890100e-04\n",
      " -1.7734810e-03 -3.1183537e-03 -2.6763459e-03  2.2984720e-03\n",
      " -1.7644898e-03 -5.0507742e-04 -1.1627702e-03 -2.7044734e-03\n",
      "  2.2734403e-04 -1.1609737e-03 -6.9915928e-04  2.2314782e-03\n",
      " -2.0104253e-03 -1.7740738e-03  2.6385942e-03  1.4671132e-03\n",
      "  1.4610529e-04  9.0708176e-04 -9.7704690e-04  3.5650333e-04\n",
      " -9.0388855e-04 -1.8372322e-03  2.3970092e-03 -3.0308127e-04\n",
      "  2.1171998e-03  1.6272315e-03  1.3714135e-03 -1.5134811e-05\n",
      " -4.1125735e-04 -5.2097639e-05  1.3229628e-03  6.8773073e-04\n",
      " -1.5043180e-03 -3.1532010e-04  1.3954870e-03 -3.2466790e-03\n",
      "  1.6758248e-03  3.1526245e-03  2.2822733e-03  1.3156637e-03\n",
      "  2.9952248e-04 -2.2840006e-03 -2.7045112e-03  7.6517783e-04\n",
      "  2.1942905e-03 -2.2799810e-04 -2.6317548e-03  1.3734038e-03\n",
      " -2.5236162e-03  1.1042873e-03 -3.3326766e-03  2.3877688e-03\n",
      "  1.1372220e-03 -1.3183236e-04 -2.6491845e-03  1.8841847e-03\n",
      " -3.2467335e-03  1.7080426e-03 -2.2578503e-03 -6.0549023e-04\n",
      " -3.2806778e-03  7.4500640e-05  2.7494053e-03 -4.3654084e-04\n",
      "  1.0454981e-03 -2.8487567e-03 -3.8843034e-04  2.4143492e-03\n",
      "  3.0562123e-03  8.4037543e-04 -1.4193555e-03 -1.8862165e-03\n",
      " -2.6064774e-03  2.9092669e-03 -2.9025432e-03  1.6346737e-03\n",
      " -5.2218040e-04 -1.3897113e-03 -2.6229029e-03 -2.9252688e-04\n",
      " -2.4420761e-03  4.8571627e-04  2.0364774e-03  2.0382262e-03\n",
      "  3.0429976e-03  2.4227723e-03  4.0067156e-04  1.4277665e-03\n",
      "  4.7521153e-04 -1.9425626e-03 -7.2103855e-04 -3.2460105e-03\n",
      " -9.1420492e-04  2.3699296e-03  1.3509106e-03  2.3913216e-03\n",
      "  9.8423089e-04 -1.6605429e-03 -2.7341279e-03  3.1881821e-03\n",
      " -3.0271052e-03 -2.1070889e-03 -1.8258421e-03  1.0666824e-03\n",
      " -1.5117419e-03  1.4236820e-03  1.1995431e-03 -5.3224165e-05\n",
      " -2.4750372e-03  3.1595500e-03 -3.0707955e-04  4.6402216e-04\n",
      "  2.1044950e-03 -2.9442823e-03 -2.8647932e-03  7.9467695e-04\n",
      " -4.7317028e-04 -3.0709291e-03 -3.6196431e-04 -1.9712588e-03\n",
      "  2.4267157e-04 -2.4747613e-03  2.5030696e-03 -2.4624428e-04\n",
      "  2.9043094e-03 -1.7828838e-03 -1.0375805e-03 -1.3879478e-03\n",
      " -2.1864700e-03 -3.0172451e-03  1.9185472e-03  3.3931492e-04\n",
      " -2.4464834e-03  1.8054354e-03  2.6249194e-03  1.1814166e-03\n",
      "  8.3475711e-04 -1.3727562e-03  2.5420014e-03  1.5876254e-03\n",
      "  2.0251751e-04  2.0113429e-03  3.0521508e-03 -1.5188520e-03\n",
      " -1.1156070e-03 -1.3604645e-03  2.2527694e-03  2.6355537e-03\n",
      "  2.0501567e-03  1.4985454e-03 -3.0215674e-03 -6.5853039e-04\n",
      " -2.5902728e-03  6.3209335e-04 -9.0337795e-04  2.4210601e-03\n",
      " -2.4441914e-03  2.9652074e-03 -3.8125357e-04  2.1680426e-03\n",
      " -3.3147002e-03 -2.2109647e-03 -2.0519285e-03  1.6049087e-03\n",
      "  2.9752636e-03  4.6950777e-04 -1.7328342e-04 -3.5659868e-05\n",
      " -1.5370531e-03 -1.2674014e-04  7.8456121e-04 -1.8367624e-03\n",
      "  4.5223712e-04  8.7602419e-04 -2.8254632e-03 -3.3103228e-03\n",
      "  2.5344079e-03 -2.2929295e-03 -3.2708419e-03  7.1082512e-05\n",
      "  6.5690954e-04  1.3795181e-03  2.8373519e-04  2.3125596e-03\n",
      "  4.8845448e-04  1.4212629e-03  3.1441541e-03 -1.3489397e-03\n",
      " -2.5878151e-04  1.3949084e-03  6.7676662e-04  1.7359173e-03\n",
      "  3.2675492e-03 -1.6874790e-03  2.9625010e-03  2.2705793e-03\n",
      " -8.2374888e-04  1.9812819e-03  9.5803617e-04 -3.0525064e-03\n",
      " -1.6308168e-03  1.2548841e-03 -4.1330140e-04  3.2670859e-03\n",
      " -9.8315242e-04 -1.5730715e-03  6.1610143e-04 -8.0309706e-05\n",
      "  8.3011191e-04 -2.5319613e-03 -1.0824283e-04 -2.2828029e-03\n",
      " -2.7245299e-03  2.5250423e-03 -2.3351867e-04  1.3887545e-03\n",
      "  3.1023587e-03  5.6868116e-04 -7.6344411e-05  2.0092721e-03\n",
      " -1.3056493e-03  6.6888292e-04 -2.3876568e-03 -6.1694463e-04\n",
      "  2.7127480e-03  2.3803632e-03  1.7656906e-03 -3.0586584e-03\n",
      " -5.6571880e-04 -2.2769149e-03  6.4906396e-04 -1.3715704e-03\n",
      " -6.3278712e-04  2.7214852e-03 -4.8763712e-04 -1.3392469e-03\n",
      " -2.2112271e-03  9.7331882e-04 -3.0576321e-03  8.3318312e-04\n",
      "  2.6341649e-03  5.8425663e-05 -1.3907735e-03  1.3222587e-03\n",
      "  9.6562703e-04 -3.0701363e-03 -1.5598941e-03  3.0469254e-03\n",
      " -3.2568749e-03 -2.4237446e-03  2.5328200e-03 -2.8523987e-03\n",
      "  1.0180811e-03  2.1288013e-03 -6.6625274e-04 -3.1161089e-03\n",
      "  1.9499823e-03  2.6531117e-03  9.0399344e-04 -2.0088232e-03\n",
      "  1.2064012e-03 -1.6196752e-03 -8.2080084e-04  2.7671298e-03\n",
      "  1.8186601e-03  1.9681975e-03  8.6588663e-04 -9.8266604e-04]\n",
      "Word2Vec<vocab=6899, vector_size=300, alpha=0.025>\n"
     ]
    }
   ],
   "source": [
    "#Training a Word2Vec Model\n",
    "nltk.download('punkt')\n",
    "# Tokenize the reviews into sentences\n",
    "sentences = [nltk.sent_tokenize(review) for review in train_data['text']]\n",
    "\n",
    "from gensim.models import Word2Vec\n",
    "\n",
    "# train model\n",
    "model = Word2Vec(sentences, min_count=1, vector_size=300)\n",
    "# summarize the loaded model\n",
    "print(model)\n",
    "# summarize vocabulary\n",
    "words = list(model.wv.key_to_index)\n",
    "# access vector for one sentence\n",
    "print(model.wv.get_vector('offer new insight matter charact exactli spring life'))\n",
    "# save model\n",
    "model.save('model.bin')\n",
    "# load model\n",
    "new_model = Word2Vec.load('model.bin')\n",
    "print(new_model)"
   ]
  },
  {
   "cell_type": "code",
   "execution_count": null,
   "metadata": {
    "colab": {
     "base_uri": "https://localhost:8080/"
    },
    "id": "FVu7i_9j41nO",
    "outputId": "d6f0caeb-ff7b-416f-fe9b-41562128cfac"
   },
   "outputs": [
    {
     "name": "stdout",
     "output_type": "stream",
     "text": [
      "Mean cross-validation score: 0.5233018455291452\n",
      "              precision    recall  f1-score   support\n",
      "\n",
      "           0       0.00      0.00      0.00       671\n",
      "           1       0.52      1.00      0.68       713\n",
      "\n",
      "    accuracy                           0.52      1384\n",
      "   macro avg       0.26      0.50      0.34      1384\n",
      "weighted avg       0.27      0.52      0.35      1384\n",
      "\n"
     ]
    }
   ],
   "source": [
    "\n",
    "import numpy as np\n",
    "import string\n",
    "import warnings\n",
    "warnings.filterwarnings('ignore')\n",
    "\n",
    "# Define a function to vectorize a sentence\n",
    "def vectorize_sentence(sentence, model):\n",
    "    # Combine the words in the sentence into a single string\n",
    "    sentence = ' '.join(sentence)\n",
    "    # Remove punctuation and convert to lowercase\n",
    "    sentence = sentence.translate(str.maketrans('', '', string.punctuation)).lower()\n",
    "    # Split sentence into words\n",
    "    words = sentence.split()\n",
    "    # Filter out words that are not in the Word2Vec model\n",
    "    words = [word for word in words if word in model.wv]\n",
    "    # If there are no words in the sentence that are in the Word2Vec model, return a zero vector\n",
    "    if len(words) == 0:\n",
    "        return np.zeros(model.vector_size)\n",
    "    # Otherwise, return the average of the word vectors in the sentence\n",
    "    else:\n",
    "        return np.mean([model.wv[word] for word in words], axis=0)\n",
    "\n",
    "\n",
    "# Vectorize the train set\n",
    "X_train_vec = np.array([vectorize_sentence(sentence, model) for sentence in sentences])\n",
    "y_train = train_data['sentiment']\n",
    "\n",
    "# Split train set into train and validation set\n",
    "X_train, X_val, y_train, y_val = train_test_split(X_train_vec, y_train, test_size=0.2, random_state=42)\n",
    "\n",
    "# Vectorize the test set\n",
    "X_test = np.array([vectorize_sentence(sentence, model) for sentence in test_data['text']])\n",
    "y_test = test_data['sentiment']\n",
    "\n",
    "from sklearn.svm import SVC\n",
    "from sklearn.metrics import classification_report\n",
    "\n",
    "# Train SVM model\n",
    "svm = SVC(kernel='linear', random_state=42,)\n",
    "# Perform 10-fold cross-validation on the training data\n",
    "scores = cross_val_score(svm, X_train, y_train, cv=10)\n",
    "\n",
    "# Print the cross-validation scores\n",
    "print('Mean cross-validation score:', scores.mean())\n",
    "svm.fit(X_train, y_train)\n",
    "\n",
    "# Make predictions on the validation set\n",
    "y_pred = svm.predict(X_val)\n",
    "\n",
    "# Evaluate the model\n",
    "print(classification_report(y_val, y_pred))\n",
    "\n"
   ]
  },
  {
   "cell_type": "markdown",
   "metadata": {
    "id": "8yHZ_r9k41nS"
   },
   "source": [
    "(20 points) The purpose of the question is to practice different machine learning algorithms for text clustering\n",
    "Please downlad the dataset by using the following link.  https://www.kaggle.com/PromptCloudHQ/amazon-reviews-unlocked-mobile-phones\n",
    "(You can also use different text data which you want)\n",
    "\n",
    "Apply the listed clustering methods to the dataset:\n",
    "\n",
    "K-means\n",
    "\n",
    "DBSCAN\n",
    "\n",
    "Hierarchical clustering\n",
    "\n",
    "Word2Vec\n",
    "\n",
    "BERT\n",
    "\n",
    "You can refer to of the codes from  the follwing link below. \n",
    "https://www.kaggle.com/karthik3890/text-clustering "
   ]
  },
  {
   "cell_type": "code",
   "execution_count": null,
   "metadata": {
    "colab": {
     "base_uri": "https://localhost:8080/"
    },
    "id": "EqUdiSJXL7c4",
    "outputId": "6f90529f-d5c9-4d73-b321-f0760a318f88"
   },
   "outputs": [
    {
     "name": "stderr",
     "output_type": "stream",
     "text": [
      "[nltk_data] Downloading package wordnet to /root/nltk_data...\n",
      "[nltk_data]   Package wordnet is already up-to-date!\n"
     ]
    },
    {
     "data": {
      "text/plain": [
       "True"
      ]
     },
     "execution_count": 16,
     "metadata": {},
     "output_type": "execute_result"
    }
   ],
   "source": [
    "#importing necessary libraries\n",
    "import re\n",
    "from textblob import TextBlob\n",
    "from nltk.stem import PorterStemmer\n",
    "from textblob import Word\n",
    "nltk.download('wordnet')"
   ]
  },
  {
   "cell_type": "code",
   "execution_count": null,
   "metadata": {
    "id": "LND0hO53L7XX"
   },
   "outputs": [],
   "source": [
    "import pandas as pd\n",
    "df = pd.read_csv('/content/Amazon_Unlocked_Mobile.csv')"
   ]
  },
  {
   "cell_type": "code",
   "execution_count": null,
   "metadata": {
    "colab": {
     "base_uri": "https://localhost:8080/"
    },
    "id": "jGPTyYyaL7Tc",
    "outputId": "e1758d6e-9ad5-4e67-8d28-cd7ab45dbeb4"
   },
   "outputs": [
    {
     "data": {
      "text/plain": [
       "0      I feel so LUCKY to have found this used (phone...\n",
       "1      nice phone, nice up grade from my pantach revu...\n",
       "2                                           Very pleased\n",
       "3      It works good but it goes slow sometimes but i...\n",
       "4      Great phone to replace my lost phone. The only...\n",
       "                             ...                        \n",
       "995    It's a decent for the price.. I've had this on...\n",
       "996                                   Is good cell phone\n",
       "997    Amazing phone. Cables and case included, also ...\n",
       "998                                             Excelent\n",
       "999       Excellent, it meets the requirements requested\n",
       "Name: Reviews, Length: 1000, dtype: object"
      ]
     },
     "execution_count": 18,
     "metadata": {},
     "output_type": "execute_result"
    }
   ],
   "source": [
    "new =df.head(1000)\n",
    "new['Reviews']"
   ]
  },
  {
   "cell_type": "code",
   "execution_count": null,
   "metadata": {
    "colab": {
     "base_uri": "https://localhost:8080/"
    },
    "id": "FzZ58aejL7RP",
    "outputId": "b04bcd78-11fc-4e91-af32-e074e71d577a"
   },
   "outputs": [
    {
     "data": {
      "text/plain": [
       "0      i feel lucki found use phone u use hard phone ...\n",
       "1      nice phone nice grade pantach revu veri clean ...\n",
       "2                                              veri plea\n",
       "3        it work good goe slow sometim good phone i love\n",
       "4      great phone replac lost phone the thing volum ...\n",
       "                             ...                        \n",
       "995    it decent price i one month the con i pretti f...\n",
       "996                                   is good cell phone\n",
       "997    amaz phone cabl case includ also screen pritec...\n",
       "998                                                excel\n",
       "999                            excel meet requir request\n",
       "Name: Lemmatization, Length: 1000, dtype: object"
      ]
     },
     "execution_count": 19,
     "metadata": {},
     "output_type": "execute_result"
    }
   ],
   "source": [
    "# Special characters removal\n",
    "new['After noise removal'] = new['Reviews'].apply(lambda x: ''.join(re.sub(r\"[^a-zA-Z0-9]+\", ' ', charctr) for charctr in x ))\n",
    "\n",
    "# Punctuation removal\n",
    "new['Punctuation removal'] = new['After noise removal'].str.replace('[^\\w\\s]','')\n",
    "\n",
    "# Remove numbers\n",
    "new['Remove numbers'] = new['Punctuation removal'].str.replace('\\d+', '')\n",
    "\n",
    "# Stopwords removal\n",
    "stop_word = stopwords.words('english')\n",
    "new['Stopwords removal'] = new['Remove numbers'].apply(lambda x: \" \".join(x for x in x.split() if x not in stop_word))\n",
    "\n",
    "# Lower Casing\n",
    "new['Lower casing'] = new['Stopwords removal'].apply(lambda x: \" \".join(x.lower() for x in x.split()))\n",
    "\n",
    "# Tokenization\n",
    "new['Tokenization'] = new['Lower casing'].apply(lambda x: TextBlob(x).words)\n",
    "\n",
    "# Stemming\n",
    "st = PorterStemmer()\n",
    "new['Stemming'] = new['Tokenization'].apply(lambda x: \" \".join([st.stem(word) for word in x]))\n",
    "\n",
    "# Lemmatization\n",
    "new['Lemmatization'] = new['Stemming'].apply(lambda x: \" \".join([Word(word).lemmatize() for word in x.split()]))\n",
    "new['Lemmatization']"
   ]
  },
  {
   "cell_type": "code",
   "execution_count": null,
   "metadata": {
    "colab": {
     "base_uri": "https://localhost:8080/"
    },
    "id": "OzSb8cg9L7Hj",
    "outputId": "73cfe4eb-ccf3-4f7a-88eb-b631e4120f53"
   },
   "outputs": [
    {
     "data": {
      "text/plain": [
       "(1000, 2483)"
      ]
     },
     "execution_count": 20,
     "metadata": {},
     "output_type": "execute_result"
    }
   ],
   "source": [
    "#Implementing kmeans usind TF-IDF\n",
    "from sklearn.feature_extraction.text import TfidfVectorizer  # Import the TfidfVectorizer class for generating TF-IDF features\n",
    "\n",
    "# Instantiate a TfidfVectorizer object with default parameters\n",
    "tfidf_vect = TfidfVectorizer()\n",
    "\n",
    "# Use the fit_transform method of the TfidfVectorizer object to generate a TF-IDF matrix from the 'Lemmatization' column of the 'new' dataframe\n",
    "tfidf = tfidf_vect.fit_transform(new['Lemmatization'].values)\n",
    "\n",
    "# Print the shape of the resulting TF-IDF matrix\n",
    "tfidf.shape\n"
   ]
  },
  {
   "cell_type": "code",
   "execution_count": null,
   "metadata": {
    "colab": {
     "base_uri": "https://localhost:8080/",
     "height": 74
    },
    "id": "D2D8cGrnL7F7",
    "outputId": "55fd8554-f254-4dc3-97a6-f18eb8950806"
   },
   "outputs": [
    {
     "data": {
      "text/html": [
       "<style>#sk-container-id-1 {color: black;background-color: white;}#sk-container-id-1 pre{padding: 0;}#sk-container-id-1 div.sk-toggleable {background-color: white;}#sk-container-id-1 label.sk-toggleable__label {cursor: pointer;display: block;width: 100%;margin-bottom: 0;padding: 0.3em;box-sizing: border-box;text-align: center;}#sk-container-id-1 label.sk-toggleable__label-arrow:before {content: \"▸\";float: left;margin-right: 0.25em;color: #696969;}#sk-container-id-1 label.sk-toggleable__label-arrow:hover:before {color: black;}#sk-container-id-1 div.sk-estimator:hover label.sk-toggleable__label-arrow:before {color: black;}#sk-container-id-1 div.sk-toggleable__content {max-height: 0;max-width: 0;overflow: hidden;text-align: left;background-color: #f0f8ff;}#sk-container-id-1 div.sk-toggleable__content pre {margin: 0.2em;color: black;border-radius: 0.25em;background-color: #f0f8ff;}#sk-container-id-1 input.sk-toggleable__control:checked~div.sk-toggleable__content {max-height: 200px;max-width: 100%;overflow: auto;}#sk-container-id-1 input.sk-toggleable__control:checked~label.sk-toggleable__label-arrow:before {content: \"▾\";}#sk-container-id-1 div.sk-estimator input.sk-toggleable__control:checked~label.sk-toggleable__label {background-color: #d4ebff;}#sk-container-id-1 div.sk-label input.sk-toggleable__control:checked~label.sk-toggleable__label {background-color: #d4ebff;}#sk-container-id-1 input.sk-hidden--visually {border: 0;clip: rect(1px 1px 1px 1px);clip: rect(1px, 1px, 1px, 1px);height: 1px;margin: -1px;overflow: hidden;padding: 0;position: absolute;width: 1px;}#sk-container-id-1 div.sk-estimator {font-family: monospace;background-color: #f0f8ff;border: 1px dotted black;border-radius: 0.25em;box-sizing: border-box;margin-bottom: 0.5em;}#sk-container-id-1 div.sk-estimator:hover {background-color: #d4ebff;}#sk-container-id-1 div.sk-parallel-item::after {content: \"\";width: 100%;border-bottom: 1px solid gray;flex-grow: 1;}#sk-container-id-1 div.sk-label:hover label.sk-toggleable__label {background-color: #d4ebff;}#sk-container-id-1 div.sk-serial::before {content: \"\";position: absolute;border-left: 1px solid gray;box-sizing: border-box;top: 0;bottom: 0;left: 50%;z-index: 0;}#sk-container-id-1 div.sk-serial {display: flex;flex-direction: column;align-items: center;background-color: white;padding-right: 0.2em;padding-left: 0.2em;position: relative;}#sk-container-id-1 div.sk-item {position: relative;z-index: 1;}#sk-container-id-1 div.sk-parallel {display: flex;align-items: stretch;justify-content: center;background-color: white;position: relative;}#sk-container-id-1 div.sk-item::before, #sk-container-id-1 div.sk-parallel-item::before {content: \"\";position: absolute;border-left: 1px solid gray;box-sizing: border-box;top: 0;bottom: 0;left: 50%;z-index: -1;}#sk-container-id-1 div.sk-parallel-item {display: flex;flex-direction: column;z-index: 1;position: relative;background-color: white;}#sk-container-id-1 div.sk-parallel-item:first-child::after {align-self: flex-end;width: 50%;}#sk-container-id-1 div.sk-parallel-item:last-child::after {align-self: flex-start;width: 50%;}#sk-container-id-1 div.sk-parallel-item:only-child::after {width: 0;}#sk-container-id-1 div.sk-dashed-wrapped {border: 1px dashed gray;margin: 0 0.4em 0.5em 0.4em;box-sizing: border-box;padding-bottom: 0.4em;background-color: white;}#sk-container-id-1 div.sk-label label {font-family: monospace;font-weight: bold;display: inline-block;line-height: 1.2em;}#sk-container-id-1 div.sk-label-container {text-align: center;}#sk-container-id-1 div.sk-container {/* jupyter's `normalize.less` sets `[hidden] { display: none; }` but bootstrap.min.css set `[hidden] { display: none !important; }` so we also need the `!important` here to be able to override the default hidden behavior on the sphinx rendered scikit-learn.org. See: https://github.com/scikit-learn/scikit-learn/issues/21755 */display: inline-block !important;position: relative;}#sk-container-id-1 div.sk-text-repr-fallback {display: none;}</style><div id=\"sk-container-id-1\" class=\"sk-top-container\"><div class=\"sk-text-repr-fallback\"><pre>KMeans(n_clusters=10, random_state=99)</pre><b>In a Jupyter environment, please rerun this cell to show the HTML representation or trust the notebook. <br />On GitHub, the HTML representation is unable to render, please try loading this page with nbviewer.org.</b></div><div class=\"sk-container\" hidden><div class=\"sk-item\"><div class=\"sk-estimator sk-toggleable\"><input class=\"sk-toggleable__control sk-hidden--visually\" id=\"sk-estimator-id-1\" type=\"checkbox\" checked><label for=\"sk-estimator-id-1\" class=\"sk-toggleable__label sk-toggleable__label-arrow\">KMeans</label><div class=\"sk-toggleable__content\"><pre>KMeans(n_clusters=10, random_state=99)</pre></div></div></div></div></div>"
      ],
      "text/plain": [
       "KMeans(n_clusters=10, random_state=99)"
      ]
     },
     "execution_count": 21,
     "metadata": {},
     "output_type": "execute_result"
    }
   ],
   "source": [
    "from sklearn.cluster import KMeans  # Import the KMeans class from scikit-learn\n",
    "\n",
    "# Instantiate a KMeans object with 10 clusters and a random state of 99\n",
    "model_tf = KMeans(n_clusters=10, random_state=99)\n",
    "\n",
    "# Use the fit method of the KMeans object to fit the model to the TF-IDF matrix generated in the previous step\n",
    "model_tf.fit(tfidf)\n"
   ]
  },
  {
   "cell_type": "code",
   "execution_count": null,
   "metadata": {
    "colab": {
     "base_uri": "https://localhost:8080/"
    },
    "id": "F2zaIwfSL7EQ",
    "outputId": "c82fc2c0-8824-44ce-e3da-f05ed3037aa5"
   },
   "outputs": [
    {
     "name": "stdout",
     "output_type": "stream",
     "text": [
      "[[0.         0.         0.         ... 0.         0.         0.        ]\n",
      " [0.         0.         0.         ... 0.         0.         0.        ]\n",
      " [0.         0.         0.         ... 0.         0.         0.        ]\n",
      " ...\n",
      " [0.         0.         0.01817278 ... 0.         0.         0.        ]\n",
      " [0.00043196 0.         0.01631382 ... 0.00067692 0.00078485 0.00068633]\n",
      " [0.         0.         0.         ... 0.         0.         0.        ]]\n"
     ]
    }
   ],
   "source": [
    "# Assign the cluster labels generated by the KMeans algorithm to a variable\n",
    "labels_tf = model_tf.labels_\n",
    "\n",
    "# Assign the cluster centers generated by the KMeans algorithm to a variable\n",
    "cluster_center_tf = model_tf.cluster_centers_\n",
    "\n",
    "# Print the cluster centers to the console\n",
    "print(cluster_center_tf)\n"
   ]
  },
  {
   "cell_type": "code",
   "execution_count": null,
   "metadata": {
    "colab": {
     "base_uri": "https://localhost:8080/"
    },
    "id": "dW3c-FHfL7Cn",
    "outputId": "5309fe88-dd1b-45de-81fe-d0efa361c383"
   },
   "outputs": [
    {
     "name": "stdout",
     "output_type": "stream",
     "text": [
      "['abil' 'abl' 'ablebto' 'about' 'absolut' 'abysm' 'accent' 'accept'\n",
      " 'access' 'accessori' 'accid' 'accident' 'accommod' 'accomod' 'accomplish'\n",
      " 'account' 'accur' 'acord' 'acostumbro' 'acquir' 'across' 'action' 'activ'\n",
      " 'actual' 'ad' 'ada' 'adapt' 'add' 'addict' 'addit' 'address' 'adequ'\n",
      " 'adhes' 'adjust' 'admir' 'admit' 'adult' 'advanc' 'advantag' 'adventur'\n",
      " 'advertis' 'advis' 'adwar' 'affect' 'affili' 'afford' 'afraid' 'africa'\n",
      " 'after' 'afternoon' 'again' 'age' 'aggrav' 'ago' 'agre' 'agreement' 'aid'\n",
      " 'air' 'airplan' 'airport' 'alarm' 'alert' 'all' 'allow' 'almost' 'alon'\n",
      " 'along' 'alot' 'alreadi' 'alright' 'also' 'alter' 'altern' 'altho'\n",
      " 'although' 'altogeth' 'aluminium' 'alway' 'am' 'amaiz' 'amaz' 'amazin'\n",
      " 'amazingli' 'amazon' 'america' 'american' 'an' 'and' 'andoid' 'andrew'\n",
      " 'andriod' 'android' 'angl' 'ani' 'anim' 'announc' 'annoy' 'anomali'\n",
      " 'anoth']\n"
     ]
    }
   ],
   "source": [
    "# Use the get_feature_names_out method of the TfidfVectorizer object to extract the terms in the corpus\n",
    "terms1 = tfidf_vect.get_feature_names_out()\n",
    "\n",
    "# Print the first 100 terms to the console\n",
    "print(terms1[1:100])\n"
   ]
  },
  {
   "cell_type": "code",
   "execution_count": null,
   "metadata": {
    "colab": {
     "base_uri": "https://localhost:8080/",
     "height": 206
    },
    "id": "kKFxjDYaL678",
    "outputId": "20d25c34-6c13-4286-9589-1c3a77f8629d"
   },
   "outputs": [
    {
     "data": {
      "text/html": [
       "\n",
       "  <div id=\"df-32b1e851-37c0-4d6c-becf-82e01f9682ca\">\n",
       "    <div class=\"colab-df-container\">\n",
       "      <div>\n",
       "<style scoped>\n",
       "    .dataframe tbody tr th:only-of-type {\n",
       "        vertical-align: middle;\n",
       "    }\n",
       "\n",
       "    .dataframe tbody tr th {\n",
       "        vertical-align: top;\n",
       "    }\n",
       "\n",
       "    .dataframe thead th {\n",
       "        text-align: right;\n",
       "    }\n",
       "</style>\n",
       "<table border=\"1\" class=\"dataframe\">\n",
       "  <thead>\n",
       "    <tr style=\"text-align: right;\">\n",
       "      <th></th>\n",
       "      <th>Lemmatization</th>\n",
       "      <th>Tfidf Clus Label</th>\n",
       "    </tr>\n",
       "  </thead>\n",
       "  <tbody>\n",
       "    <tr>\n",
       "      <th>0</th>\n",
       "      <td>i feel lucki found use phone u use hard phone ...</td>\n",
       "      <td>8</td>\n",
       "    </tr>\n",
       "    <tr>\n",
       "      <th>1</th>\n",
       "      <td>nice phone nice grade pantach revu veri clean ...</td>\n",
       "      <td>8</td>\n",
       "    </tr>\n",
       "    <tr>\n",
       "      <th>2</th>\n",
       "      <td>veri plea</td>\n",
       "      <td>6</td>\n",
       "    </tr>\n",
       "    <tr>\n",
       "      <th>3</th>\n",
       "      <td>it work good goe slow sometim good phone i love</td>\n",
       "      <td>0</td>\n",
       "    </tr>\n",
       "    <tr>\n",
       "      <th>4</th>\n",
       "      <td>great phone replac lost phone the thing volum ...</td>\n",
       "      <td>8</td>\n",
       "    </tr>\n",
       "  </tbody>\n",
       "</table>\n",
       "</div>\n",
       "      <button class=\"colab-df-convert\" onclick=\"convertToInteractive('df-32b1e851-37c0-4d6c-becf-82e01f9682ca')\"\n",
       "              title=\"Convert this dataframe to an interactive table.\"\n",
       "              style=\"display:none;\">\n",
       "        \n",
       "  <svg xmlns=\"http://www.w3.org/2000/svg\" height=\"24px\"viewBox=\"0 0 24 24\"\n",
       "       width=\"24px\">\n",
       "    <path d=\"M0 0h24v24H0V0z\" fill=\"none\"/>\n",
       "    <path d=\"M18.56 5.44l.94 2.06.94-2.06 2.06-.94-2.06-.94-.94-2.06-.94 2.06-2.06.94zm-11 1L8.5 8.5l.94-2.06 2.06-.94-2.06-.94L8.5 2.5l-.94 2.06-2.06.94zm10 10l.94 2.06.94-2.06 2.06-.94-2.06-.94-.94-2.06-.94 2.06-2.06.94z\"/><path d=\"M17.41 7.96l-1.37-1.37c-.4-.4-.92-.59-1.43-.59-.52 0-1.04.2-1.43.59L10.3 9.45l-7.72 7.72c-.78.78-.78 2.05 0 2.83L4 21.41c.39.39.9.59 1.41.59.51 0 1.02-.2 1.41-.59l7.78-7.78 2.81-2.81c.8-.78.8-2.07 0-2.86zM5.41 20L4 18.59l7.72-7.72 1.47 1.35L5.41 20z\"/>\n",
       "  </svg>\n",
       "      </button>\n",
       "      \n",
       "  <style>\n",
       "    .colab-df-container {\n",
       "      display:flex;\n",
       "      flex-wrap:wrap;\n",
       "      gap: 12px;\n",
       "    }\n",
       "\n",
       "    .colab-df-convert {\n",
       "      background-color: #E8F0FE;\n",
       "      border: none;\n",
       "      border-radius: 50%;\n",
       "      cursor: pointer;\n",
       "      display: none;\n",
       "      fill: #1967D2;\n",
       "      height: 32px;\n",
       "      padding: 0 0 0 0;\n",
       "      width: 32px;\n",
       "    }\n",
       "\n",
       "    .colab-df-convert:hover {\n",
       "      background-color: #E2EBFA;\n",
       "      box-shadow: 0px 1px 2px rgba(60, 64, 67, 0.3), 0px 1px 3px 1px rgba(60, 64, 67, 0.15);\n",
       "      fill: #174EA6;\n",
       "    }\n",
       "\n",
       "    [theme=dark] .colab-df-convert {\n",
       "      background-color: #3B4455;\n",
       "      fill: #D2E3FC;\n",
       "    }\n",
       "\n",
       "    [theme=dark] .colab-df-convert:hover {\n",
       "      background-color: #434B5C;\n",
       "      box-shadow: 0px 1px 3px 1px rgba(0, 0, 0, 0.15);\n",
       "      filter: drop-shadow(0px 1px 2px rgba(0, 0, 0, 0.3));\n",
       "      fill: #FFFFFF;\n",
       "    }\n",
       "  </style>\n",
       "\n",
       "      <script>\n",
       "        const buttonEl =\n",
       "          document.querySelector('#df-32b1e851-37c0-4d6c-becf-82e01f9682ca button.colab-df-convert');\n",
       "        buttonEl.style.display =\n",
       "          google.colab.kernel.accessAllowed ? 'block' : 'none';\n",
       "\n",
       "        async function convertToInteractive(key) {\n",
       "          const element = document.querySelector('#df-32b1e851-37c0-4d6c-becf-82e01f9682ca');\n",
       "          const dataTable =\n",
       "            await google.colab.kernel.invokeFunction('convertToInteractive',\n",
       "                                                     [key], {});\n",
       "          if (!dataTable) return;\n",
       "\n",
       "          const docLinkHtml = 'Like what you see? Visit the ' +\n",
       "            '<a target=\"_blank\" href=https://colab.research.google.com/notebooks/data_table.ipynb>data table notebook</a>'\n",
       "            + ' to learn more about interactive tables.';\n",
       "          element.innerHTML = '';\n",
       "          dataTable['output_type'] = 'display_data';\n",
       "          await google.colab.output.renderOutput(dataTable, element);\n",
       "          const docLink = document.createElement('div');\n",
       "          docLink.innerHTML = docLinkHtml;\n",
       "          element.appendChild(docLink);\n",
       "        }\n",
       "      </script>\n",
       "    </div>\n",
       "  </div>\n",
       "  "
      ],
      "text/plain": [
       "                                       Lemmatization  Tfidf Clus Label\n",
       "0  i feel lucki found use phone u use hard phone ...                 8\n",
       "1  nice phone nice grade pantach revu veri clean ...                 8\n",
       "2                                          veri plea                 6\n",
       "3    it work good goe slow sometim good phone i love                 0\n",
       "4  great phone replac lost phone the thing volum ...                 8"
      ]
     },
     "execution_count": 24,
     "metadata": {},
     "output_type": "execute_result"
    }
   ],
   "source": [
    "df1 = new  # Assign the DataFrame 'new' to a new variable 'df1'\n",
    "df1['Tfidf Clus Label'] = model_tf.labels_  # Add a new column 'Tfidf Clus Label' to 'df1' containing the clustering labels obtained from 'model_tf'\n",
    "df1[['Lemmatization','Tfidf Clus Label']].head()  # Select the 'Lemmatization' and 'Tfidf Clus Label' columns from 'df1' and display the first five rows using the `head()` method\n"
   ]
  },
  {
   "cell_type": "code",
   "execution_count": null,
   "metadata": {
    "colab": {
     "base_uri": "https://localhost:8080/"
    },
    "id": "qFoLxCeqL66R",
    "outputId": "516feccb-83ad-4ff4-da2a-890fb616b7d5"
   },
   "outputs": [
    {
     "data": {
      "text/plain": [
       "Tfidf Clus Label\n",
       "0     61\n",
       "1     48\n",
       "2     35\n",
       "3     43\n",
       "4    171\n",
       "5     52\n",
       "6    276\n",
       "7    107\n",
       "8    194\n",
       "9     13\n",
       "Name: Reviews, dtype: int64"
      ]
     },
     "execution_count": 25,
     "metadata": {},
     "output_type": "execute_result"
    }
   ],
   "source": [
    "df1.groupby(['Tfidf Clus Label'])['Reviews'].count()"
   ]
  },
  {
   "cell_type": "code",
   "execution_count": null,
   "metadata": {
    "colab": {
     "base_uri": "https://localhost:8080/"
    },
    "id": "kWlTQaJKL64i",
    "outputId": "ded172a9-8db0-42d7-8833-4d3c5e806d5e"
   },
   "outputs": [
    {
     "name": "stdout",
     "output_type": "stream",
     "text": [
      "Top clusters:\n",
      "Cluster 0: good\n",
      " veri\n",
      " phone\n",
      " product\n",
      " price\n",
      " buy\n",
      " tank\n",
      " thank\n",
      " mobil\n",
      " recomend\n",
      "Cluster 1: great\n",
      " phone\n",
      " work\n",
      " price\n",
      " expect\n",
      " good\n",
      " happi\n",
      " fast\n",
      " luv\n",
      " product\n",
      "Cluster 2: excelent\n",
      " telefono\n",
      " muy\n",
      " bueno\n",
      " producto\n",
      " fraction\n",
      " freeli\n",
      " freedompop\n",
      " freedom\n",
      " free\n",
      "Cluster 3: love\n",
      " phone\n",
      " my\n",
      " use\n",
      " mom\n",
      " great\n",
      " it\n",
      " easi\n",
      " best\n",
      " like\n",
      "Cluster 4: phone\n",
      " the\n",
      " it\n",
      " sim\n",
      " card\n",
      " use\n",
      " review\n",
      " like\n",
      " camera\n",
      " screen\n",
      "Cluster 5: excel\n",
      " product\n",
      " recommend\n",
      " seller\n",
      " thank\n",
      " phone\n",
      " fash\n",
      " function\n",
      " five\n",
      " cellphon\n",
      "Cluster 6: ok\n",
      " charg\n",
      " phone\n",
      " bad\n",
      " bueno\n",
      " it\n",
      " good\n",
      " fine\n",
      " thank\n",
      " muy\n",
      "Cluster 7: work\n",
      " phone\n",
      " bought\n",
      " it\n",
      " the\n",
      " use\n",
      " item\n",
      " call\n",
      " month\n",
      " lousi\n",
      "Cluster 8: phone\n",
      " use\n",
      " the\n",
      " good\n",
      " it\n",
      " get\n",
      " nice\n",
      " thi\n",
      " screen\n",
      " set\n",
      "Cluster 9: defect\n",
      " had\n",
      " slow\n",
      " phone\n",
      " repair\n",
      " charg\n",
      " week\n",
      " diagonosi\n",
      " return\n",
      " port\n"
     ]
    }
   ],
   "source": [
    "print(\"Top clusters:\")\n",
    "order_centroids = model_tf.cluster_centers_.argsort()[:, ::-1]\n",
    "for i in range(10):\n",
    "    print(\"Cluster %d:\" % i, end='')\n",
    "    for ind in order_centroids[i, :10]:\n",
    "        print(' %s' % terms1[ind], end='')\n",
    "        print()"
   ]
  },
  {
   "cell_type": "code",
   "execution_count": null,
   "metadata": {
    "colab": {
     "base_uri": "https://localhost:8080/"
    },
    "id": "XAn2dkfnL6TQ",
    "outputId": "8a44d7eb-66ff-4743-e17c-cde4ab4bf3df"
   },
   "outputs": [
    {
     "name": "stdout",
     "output_type": "stream",
     "text": [
      "4 reviews of ensured to cluster  0\n",
      "----------------------------------------------------------------------\n",
      "It works good but it goes slow sometimes but its a very good phone I love it\n",
      "\n",
      "\n",
      "very good\n",
      "\n",
      "\n",
      "very good cell\n",
      "\n",
      "\n",
      "______________________________________________________________________\n",
      "4 reviews of ensured to cluster  1\n",
      "----------------------------------------------------------------------\n",
      "I brought this phone as a replacement for my daughter, who is very hard on cell phones. I must say it was a great purchase. The phone work wonderful. Thank you\n",
      "\n",
      "\n",
      "the phone was great and in good condition. My Daughter is so happy the be a andriod user now !!!!!!!!!!!!!!!!!!!!!!!!!!!!!!!\n",
      "\n",
      "\n",
      "This phone came in great condition! Great price and it brings back great memories of owning this phone!\n",
      "\n",
      "\n",
      "______________________________________________________________________\n",
      "4 reviews of ensured to cluster  2\n",
      "----------------------------------------------------------------------\n",
      "excelente\n",
      "\n",
      "\n",
      "Excelente\n",
      "\n",
      "\n",
      "excelente\n",
      "\n",
      "\n",
      "______________________________________________________________________\n",
      "4 reviews of ensured to cluster  3\n",
      "----------------------------------------------------------------------\n",
      "I like these phone I bought it for my mom and she loves it\n",
      "\n",
      "\n",
      "loved everything about it. also it looks like any other touch phone but is not. which makes it stylish yet classic.\n",
      "\n",
      "\n",
      "My husband loves it!! It is simple to use with large numbers. The simpler the better for him.\n",
      "\n",
      "\n",
      "______________________________________________________________________\n",
      "4 reviews of ensured to cluster  4\n",
      "----------------------------------------------------------------------\n",
      "I originally was using the Samsung S2 Galaxy for Sprint and wanted to return back to the Samsung EPIC 4G for Sprint because I really missed the keyboard, I really liked the smaller compact size of the phone, and I still needed some of the basic functions of a smart phone (i.e. checking e-mail, getting directions, text messaging) Because the phone is not as powerful as the newer cell phones out there, just be aware that the more applications you install the slower the phone runs and will most likely freeze up from time to time. But the camera works great, the video is great as well, and even the web browsing is decent and gives me what I need. I also notice that battery life lasts a little bit longer and charging the phone is much quicker than my Galaxy S2.\n",
      "\n",
      "\n",
      "I love the phone. It does everything I need and works great. I purchased four of these phones through a seller that shipped from Amazon's warehouse. My only problem is that the phone didn't come with a micro sd card. I couldn't use the camera until I got the card. No problems getting these activated at Sprint.\n",
      "\n",
      "\n",
      "This is a solidly-built unlocked phone that is an update to the popular Nokia C3. It runs the S40 software which has its goods and bads. It has good reception and nice audio. The 3g supports 850 and 1900 bands (AT&T and T-mobile when it's hspa is refarmed from 1700/2100 to the 1900 pcs band.) + the 2100 band.The keyboard is pretty good, not as firm as other Nokia qwerty phones (e.g. E5), but comparable to the C3 keyboard. The one that I have is obviously for the world market, since it has some added European chars and symbols on the keypad. Wi-fi works fine, and Opera Mini installed and runs without problems - good way to go for a bit of web-surfing. I did not tried any of the e-mail or social clients. Text messaging can be set to 'normal' in-box or conversation modes. OVI store app does not seem to work that well. There are a couple of features that I found appealing: ability to backup the phone memory to the sd card; ability to lock the keypad with a passcode either manually or automatically after a set time. The battery is fairly good sized (BL-5J). The 'function' keys and the d-pad keys can all be re-assigned to user defined short-cuts. My opinion: it is a worthy update (3g) to the C3, not quite in the same league as the more expensive E5 which has the multi-tasking S60 software. For the price of around $110, it is an unlocked feature (gsm/3g) phone well worth considering, as long as one knows that one is getting a non-smart phone and that apps for S40 is very limited.\n",
      "\n",
      "\n",
      "______________________________________________________________________\n",
      "4 reviews of ensured to cluster  5\n",
      "----------------------------------------------------------------------\n",
      "excellent product in perfect condition\n",
      "\n",
      "\n",
      "Excellent\n",
      "\n",
      "\n",
      "very good, excellent\n",
      "\n",
      "\n",
      "______________________________________________________________________\n",
      "4 reviews of ensured to cluster  6\n",
      "----------------------------------------------------------------------\n",
      "Very pleased\n",
      "\n",
      "\n",
      "The charging port was loose. I got that soldered in. Then needed a new battery as well. $100 later (not including cost of purchase) I have a usable phone. The phone should not have been sold in the state it was in.\n",
      "\n",
      "\n",
      "the reasons for the 3 star rating was it was in my opinion better than my iphone 4s but it tends to randomly crash, and randomly power off but it is good for storage space, battery usage, and camera\n",
      "\n",
      "\n",
      "______________________________________________________________________\n",
      "4 reviews of ensured to cluster  7\n",
      "----------------------------------------------------------------------\n",
      "Phone is working on, I was planning to use it for whatsapp anyway. The oh problem, I can't change the idiom\n",
      "\n",
      "\n",
      "when i got phone it wouldn't work I took it to a Verizon store here the battery didn't work even when I charged it for 12 hrs Verizon put another used battery in phone it started to work\n",
      "\n",
      "\n",
      "does not work well with T-Mobile. T-Mobile closes off some towers to non-T-Mobile phones.\n",
      "\n",
      "\n",
      "______________________________________________________________________\n",
      "4 reviews of ensured to cluster  8\n",
      "----------------------------------------------------------------------\n",
      "I feel so LUCKY to have found this used (phone to us & not used hard at all), phone on line from someone who upgraded and sold this one. My Son liked his old one that finally fell apart after 2.5+ years and didn't want an upgrade!! Thank you Seller, we really appreciate it & your honesty re: said used phone.I recommend this seller very highly & would but from them again!!\n",
      "\n",
      "\n",
      "Great phone to replace my lost phone. The only thing is the volume up button does not work, but I can still go into settings to adjust. Other than that, it does the job until I am eligible to upgrade my phone again.Thaanks!\n",
      "\n",
      "\n",
      "I'm really disappointed about my phone and service. The phone went out on me over a week ago. Instead of handling it when issue first surfaced. I've been told to do this and do that. Now I'm stick with no phone and I'm out 55 dollars for service that I'm not using. I still haven't received a mailing label to return item. This was my first purchase on amazon. I'm not rushing to use theirs or smartphones 288 business Anytime soon. I thought I was getting a deal but it seems like I'm the one who lucked out.\n",
      "\n",
      "\n",
      "______________________________________________________________________\n",
      "4 reviews of ensured to cluster  9\n",
      "----------------------------------------------------------------------\n",
      "the phone is unable to maintain signal after 2 weeks of usage on the TMobile network. I hope it is a defected product\n",
      "\n",
      "\n",
      "I HATE THIS PHONE, WEEK LATER HAD TO BUY ANOTHER ONE...ITS SLOW AND STORAGE IS VERY POOR...A WASTE OF MONEY...NEVER AGAIN...\n",
      "\n",
      "\n",
      "Phone was too slow. Had a defect.\n",
      "\n",
      "\n",
      "______________________________________________________________________\n"
     ]
    }
   ],
   "source": [
    "for i in range(10):\n",
    "    print(\"4 reviews of ensured to cluster \", i)\n",
    "    print(\"-\" * 70)\n",
    "    print(df1.iloc[df1.groupby(['Tfidf Clus Label']).groups[i][0]]['Reviews'])\n",
    "    print('\\n')\n",
    "    print(df1.iloc[df1.groupby(['Tfidf Clus Label']).groups[i][2]]['Reviews'])\n",
    "    print('\\n')\n",
    "    print(df1.iloc[df1.groupby(['Tfidf Clus Label']).groups[i][6]]['Reviews'])\n",
    "    print('\\n')\n",
    "    print(\"_\" * 70)\n"
   ]
  },
  {
   "cell_type": "code",
   "execution_count": null,
   "metadata": {
    "id": "iwzU4PeVL6KJ"
   },
   "outputs": [],
   "source": [
    "# Generating bag of words features and Implementing K-means.\n",
    "from sklearn.feature_extraction.text import CountVectorizer\n",
    "count_vect = CountVectorizer()\n",
    "bow = count_vect.fit_transform(new['Reviews'].values)\n"
   ]
  },
  {
   "cell_type": "code",
   "execution_count": null,
   "metadata": {
    "colab": {
     "base_uri": "https://localhost:8080/",
     "height": 74
    },
    "id": "MLLyfUMLL6HW",
    "outputId": "c8aa321d-1e99-41e5-a53d-cbf5f73fcbe7"
   },
   "outputs": [
    {
     "data": {
      "text/html": [
       "<style>#sk-container-id-2 {color: black;background-color: white;}#sk-container-id-2 pre{padding: 0;}#sk-container-id-2 div.sk-toggleable {background-color: white;}#sk-container-id-2 label.sk-toggleable__label {cursor: pointer;display: block;width: 100%;margin-bottom: 0;padding: 0.3em;box-sizing: border-box;text-align: center;}#sk-container-id-2 label.sk-toggleable__label-arrow:before {content: \"▸\";float: left;margin-right: 0.25em;color: #696969;}#sk-container-id-2 label.sk-toggleable__label-arrow:hover:before {color: black;}#sk-container-id-2 div.sk-estimator:hover label.sk-toggleable__label-arrow:before {color: black;}#sk-container-id-2 div.sk-toggleable__content {max-height: 0;max-width: 0;overflow: hidden;text-align: left;background-color: #f0f8ff;}#sk-container-id-2 div.sk-toggleable__content pre {margin: 0.2em;color: black;border-radius: 0.25em;background-color: #f0f8ff;}#sk-container-id-2 input.sk-toggleable__control:checked~div.sk-toggleable__content {max-height: 200px;max-width: 100%;overflow: auto;}#sk-container-id-2 input.sk-toggleable__control:checked~label.sk-toggleable__label-arrow:before {content: \"▾\";}#sk-container-id-2 div.sk-estimator input.sk-toggleable__control:checked~label.sk-toggleable__label {background-color: #d4ebff;}#sk-container-id-2 div.sk-label input.sk-toggleable__control:checked~label.sk-toggleable__label {background-color: #d4ebff;}#sk-container-id-2 input.sk-hidden--visually {border: 0;clip: rect(1px 1px 1px 1px);clip: rect(1px, 1px, 1px, 1px);height: 1px;margin: -1px;overflow: hidden;padding: 0;position: absolute;width: 1px;}#sk-container-id-2 div.sk-estimator {font-family: monospace;background-color: #f0f8ff;border: 1px dotted black;border-radius: 0.25em;box-sizing: border-box;margin-bottom: 0.5em;}#sk-container-id-2 div.sk-estimator:hover {background-color: #d4ebff;}#sk-container-id-2 div.sk-parallel-item::after {content: \"\";width: 100%;border-bottom: 1px solid gray;flex-grow: 1;}#sk-container-id-2 div.sk-label:hover label.sk-toggleable__label {background-color: #d4ebff;}#sk-container-id-2 div.sk-serial::before {content: \"\";position: absolute;border-left: 1px solid gray;box-sizing: border-box;top: 0;bottom: 0;left: 50%;z-index: 0;}#sk-container-id-2 div.sk-serial {display: flex;flex-direction: column;align-items: center;background-color: white;padding-right: 0.2em;padding-left: 0.2em;position: relative;}#sk-container-id-2 div.sk-item {position: relative;z-index: 1;}#sk-container-id-2 div.sk-parallel {display: flex;align-items: stretch;justify-content: center;background-color: white;position: relative;}#sk-container-id-2 div.sk-item::before, #sk-container-id-2 div.sk-parallel-item::before {content: \"\";position: absolute;border-left: 1px solid gray;box-sizing: border-box;top: 0;bottom: 0;left: 50%;z-index: -1;}#sk-container-id-2 div.sk-parallel-item {display: flex;flex-direction: column;z-index: 1;position: relative;background-color: white;}#sk-container-id-2 div.sk-parallel-item:first-child::after {align-self: flex-end;width: 50%;}#sk-container-id-2 div.sk-parallel-item:last-child::after {align-self: flex-start;width: 50%;}#sk-container-id-2 div.sk-parallel-item:only-child::after {width: 0;}#sk-container-id-2 div.sk-dashed-wrapped {border: 1px dashed gray;margin: 0 0.4em 0.5em 0.4em;box-sizing: border-box;padding-bottom: 0.4em;background-color: white;}#sk-container-id-2 div.sk-label label {font-family: monospace;font-weight: bold;display: inline-block;line-height: 1.2em;}#sk-container-id-2 div.sk-label-container {text-align: center;}#sk-container-id-2 div.sk-container {/* jupyter's `normalize.less` sets `[hidden] { display: none; }` but bootstrap.min.css set `[hidden] { display: none !important; }` so we also need the `!important` here to be able to override the default hidden behavior on the sphinx rendered scikit-learn.org. See: https://github.com/scikit-learn/scikit-learn/issues/21755 */display: inline-block !important;position: relative;}#sk-container-id-2 div.sk-text-repr-fallback {display: none;}</style><div id=\"sk-container-id-2\" class=\"sk-top-container\"><div class=\"sk-text-repr-fallback\"><pre>KMeans(n_clusters=10, random_state=99)</pre><b>In a Jupyter environment, please rerun this cell to show the HTML representation or trust the notebook. <br />On GitHub, the HTML representation is unable to render, please try loading this page with nbviewer.org.</b></div><div class=\"sk-container\" hidden><div class=\"sk-item\"><div class=\"sk-estimator sk-toggleable\"><input class=\"sk-toggleable__control sk-hidden--visually\" id=\"sk-estimator-id-2\" type=\"checkbox\" checked><label for=\"sk-estimator-id-2\" class=\"sk-toggleable__label sk-toggleable__label-arrow\">KMeans</label><div class=\"sk-toggleable__content\"><pre>KMeans(n_clusters=10, random_state=99)</pre></div></div></div></div></div>"
      ],
      "text/plain": [
       "KMeans(n_clusters=10, random_state=99)"
      ]
     },
     "execution_count": 29,
     "metadata": {},
     "output_type": "execute_result"
    }
   ],
   "source": [
    "from sklearn.cluster import KMeans  # Importing the KMeans clustering algorithm from sklearn.cluster library\n",
    "model = KMeans(n_clusters = 10,init='k-means++',random_state=99)  # Creating an instance of the KMeans clustering algorithm with 10 clusters, k-means++ initialization, and a fixed random state of 99.\n",
    "model.fit(bow)  # Fitting the KMeans clustering model on the bag-of-words (bow) matrix.\n"
   ]
  },
  {
   "cell_type": "code",
   "execution_count": null,
   "metadata": {
    "id": "oPk88ZkcL6F_"
   },
   "outputs": [],
   "source": [
    "labels = model.labels_  # Obtaining the cluster labels for each data point in the input matrix using the 'labels_' attribute of the KMeans model\n",
    "cluster_center = model.cluster_centers_  # Obtaining the cluster centers (centroids) for each of the clusters using the 'cluster_centers_' attribute of the KMeans model\n"
   ]
  },
  {
   "cell_type": "code",
   "execution_count": null,
   "metadata": {
    "colab": {
     "base_uri": "https://localhost:8080/"
    },
    "id": "f_SWLShvL6EX",
    "outputId": "3647b200-2733-4b56-ba8c-c255a43fdc38"
   },
   "outputs": [
    {
     "name": "stdout",
     "output_type": "stream",
     "text": [
      "0.39528026327024723\n"
     ]
    }
   ],
   "source": [
    "from sklearn import metrics\n",
    "print(metrics.silhouette_score(bow, labels, metric='euclidean'))"
   ]
  },
  {
   "cell_type": "code",
   "execution_count": null,
   "metadata": {
    "colab": {
     "base_uri": "https://localhost:8080/",
     "height": 206
    },
    "id": "oc4xItBcL5_a",
    "outputId": "81707f3b-1295-4d4a-a8d2-90a1c201cf9e"
   },
   "outputs": [
    {
     "data": {
      "text/html": [
       "\n",
       "  <div id=\"df-30799f76-a206-4a04-a147-c75b6176ae77\">\n",
       "    <div class=\"colab-df-container\">\n",
       "      <div>\n",
       "<style scoped>\n",
       "    .dataframe tbody tr th:only-of-type {\n",
       "        vertical-align: middle;\n",
       "    }\n",
       "\n",
       "    .dataframe tbody tr th {\n",
       "        vertical-align: top;\n",
       "    }\n",
       "\n",
       "    .dataframe thead th {\n",
       "        text-align: right;\n",
       "    }\n",
       "</style>\n",
       "<table border=\"1\" class=\"dataframe\">\n",
       "  <thead>\n",
       "    <tr style=\"text-align: right;\">\n",
       "      <th></th>\n",
       "      <th>Lemmatization</th>\n",
       "      <th>Bow Label</th>\n",
       "    </tr>\n",
       "  </thead>\n",
       "  <tbody>\n",
       "    <tr>\n",
       "      <th>0</th>\n",
       "      <td>i feel lucki found use phone u use hard phone ...</td>\n",
       "      <td>9</td>\n",
       "    </tr>\n",
       "    <tr>\n",
       "      <th>1</th>\n",
       "      <td>nice phone nice grade pantach revu veri clean ...</td>\n",
       "      <td>0</td>\n",
       "    </tr>\n",
       "    <tr>\n",
       "      <th>2</th>\n",
       "      <td>veri plea</td>\n",
       "      <td>0</td>\n",
       "    </tr>\n",
       "    <tr>\n",
       "      <th>3</th>\n",
       "      <td>it work good goe slow sometim good phone i love</td>\n",
       "      <td>0</td>\n",
       "    </tr>\n",
       "    <tr>\n",
       "      <th>4</th>\n",
       "      <td>great phone replac lost phone the thing volum ...</td>\n",
       "      <td>9</td>\n",
       "    </tr>\n",
       "  </tbody>\n",
       "</table>\n",
       "</div>\n",
       "      <button class=\"colab-df-convert\" onclick=\"convertToInteractive('df-30799f76-a206-4a04-a147-c75b6176ae77')\"\n",
       "              title=\"Convert this dataframe to an interactive table.\"\n",
       "              style=\"display:none;\">\n",
       "        \n",
       "  <svg xmlns=\"http://www.w3.org/2000/svg\" height=\"24px\"viewBox=\"0 0 24 24\"\n",
       "       width=\"24px\">\n",
       "    <path d=\"M0 0h24v24H0V0z\" fill=\"none\"/>\n",
       "    <path d=\"M18.56 5.44l.94 2.06.94-2.06 2.06-.94-2.06-.94-.94-2.06-.94 2.06-2.06.94zm-11 1L8.5 8.5l.94-2.06 2.06-.94-2.06-.94L8.5 2.5l-.94 2.06-2.06.94zm10 10l.94 2.06.94-2.06 2.06-.94-2.06-.94-.94-2.06-.94 2.06-2.06.94z\"/><path d=\"M17.41 7.96l-1.37-1.37c-.4-.4-.92-.59-1.43-.59-.52 0-1.04.2-1.43.59L10.3 9.45l-7.72 7.72c-.78.78-.78 2.05 0 2.83L4 21.41c.39.39.9.59 1.41.59.51 0 1.02-.2 1.41-.59l7.78-7.78 2.81-2.81c.8-.78.8-2.07 0-2.86zM5.41 20L4 18.59l7.72-7.72 1.47 1.35L5.41 20z\"/>\n",
       "  </svg>\n",
       "      </button>\n",
       "      \n",
       "  <style>\n",
       "    .colab-df-container {\n",
       "      display:flex;\n",
       "      flex-wrap:wrap;\n",
       "      gap: 12px;\n",
       "    }\n",
       "\n",
       "    .colab-df-convert {\n",
       "      background-color: #E8F0FE;\n",
       "      border: none;\n",
       "      border-radius: 50%;\n",
       "      cursor: pointer;\n",
       "      display: none;\n",
       "      fill: #1967D2;\n",
       "      height: 32px;\n",
       "      padding: 0 0 0 0;\n",
       "      width: 32px;\n",
       "    }\n",
       "\n",
       "    .colab-df-convert:hover {\n",
       "      background-color: #E2EBFA;\n",
       "      box-shadow: 0px 1px 2px rgba(60, 64, 67, 0.3), 0px 1px 3px 1px rgba(60, 64, 67, 0.15);\n",
       "      fill: #174EA6;\n",
       "    }\n",
       "\n",
       "    [theme=dark] .colab-df-convert {\n",
       "      background-color: #3B4455;\n",
       "      fill: #D2E3FC;\n",
       "    }\n",
       "\n",
       "    [theme=dark] .colab-df-convert:hover {\n",
       "      background-color: #434B5C;\n",
       "      box-shadow: 0px 1px 3px 1px rgba(0, 0, 0, 0.15);\n",
       "      filter: drop-shadow(0px 1px 2px rgba(0, 0, 0, 0.3));\n",
       "      fill: #FFFFFF;\n",
       "    }\n",
       "  </style>\n",
       "\n",
       "      <script>\n",
       "        const buttonEl =\n",
       "          document.querySelector('#df-30799f76-a206-4a04-a147-c75b6176ae77 button.colab-df-convert');\n",
       "        buttonEl.style.display =\n",
       "          google.colab.kernel.accessAllowed ? 'block' : 'none';\n",
       "\n",
       "        async function convertToInteractive(key) {\n",
       "          const element = document.querySelector('#df-30799f76-a206-4a04-a147-c75b6176ae77');\n",
       "          const dataTable =\n",
       "            await google.colab.kernel.invokeFunction('convertToInteractive',\n",
       "                                                     [key], {});\n",
       "          if (!dataTable) return;\n",
       "\n",
       "          const docLinkHtml = 'Like what you see? Visit the ' +\n",
       "            '<a target=\"_blank\" href=https://colab.research.google.com/notebooks/data_table.ipynb>data table notebook</a>'\n",
       "            + ' to learn more about interactive tables.';\n",
       "          element.innerHTML = '';\n",
       "          dataTable['output_type'] = 'display_data';\n",
       "          await google.colab.output.renderOutput(dataTable, element);\n",
       "          const docLink = document.createElement('div');\n",
       "          docLink.innerHTML = docLinkHtml;\n",
       "          element.appendChild(docLink);\n",
       "        }\n",
       "      </script>\n",
       "    </div>\n",
       "  </div>\n",
       "  "
      ],
      "text/plain": [
       "                                       Lemmatization  Bow Label\n",
       "0  i feel lucki found use phone u use hard phone ...          9\n",
       "1  nice phone nice grade pantach revu veri clean ...          0\n",
       "2                                          veri plea          0\n",
       "3    it work good goe slow sometim good phone i love          0\n",
       "4  great phone replac lost phone the thing volum ...          9"
      ]
     },
     "execution_count": 32,
     "metadata": {},
     "output_type": "execute_result"
    }
   ],
   "source": [
    "new['Bow Label'] = model.labels_ \n",
    "new[['Lemmatization','Bow Label']].head()"
   ]
  },
  {
   "cell_type": "code",
   "execution_count": null,
   "metadata": {
    "id": "A5ofSJUTL58y"
   },
   "outputs": [],
   "source": [
    "#Implementing DBSCAN\n",
    "from sklearn.cluster import DBSCAN  # Importing the DBSCAN clustering algorithm from the sklearn.cluster library\n",
    "import numpy as np  # Importing the numpy library and aliasing it as np\n",
    "\n",
    "minPts = 2 * 100  # Setting the value of the minimum points parameter for DBSCAN algorithm to be twice the dimensionality of the dataset\n",
    "\n",
    "def lower_bound(nums, target):  # Defining a function to return the number in the array just greater than or equal to itself\n",
    "    l, r = 0, len(nums) - 1\n",
    "    while l <= r:  # Implementing binary search to find the nearest number\n",
    "        mid = int(l + (r - l) / 2)\n",
    "        if nums[mid] >= target:\n",
    "            r = mid - 1\n",
    "        else:\n",
    "            l = mid + 1\n",
    "    return l\n",
    "\n",
    "def compute200thnearestneighbour(x, data):  # Defining a function to compute the 200th nearest neighbor of a point in the dataset\n",
    "    dists = []  # Initializing an empty list to store the distances\n",
    "    for val in data:  # Computing the distance between the given point and all other points in the dataset\n",
    "        dist = np.sum((x - val) **2 )\n",
    "        if (len(dists) == 200 and dists[199] > dist): \n",
    "          l = int(lower_bound(dists, dist)) \n",
    "          if l < 200 and l >= 0 and dists[l] > dist:\n",
    "              dists[l] = dist\n",
    "        else:\n",
    "          dists.append(dist)\n",
    "          dists.sort()\n",
    "    \n",
    "    return dists[199]  # Returning the distance to the 200th nearest neighbor\n"
   ]
  },
  {
   "cell_type": "code",
   "execution_count": null,
   "metadata": {
    "id": "Fp40uvFwL56K"
   },
   "outputs": [],
   "source": [
    "list_of_sent_train = list()\n",
    "\n",
    "for i in new[\"Lower casing\"].values:\n",
    "  list_of_sent_train.append(i.split())"
   ]
  },
  {
   "cell_type": "code",
   "execution_count": null,
   "metadata": {
    "colab": {
     "base_uri": "https://localhost:8080/",
     "height": 74
    },
    "id": "oLif7TY7L53K",
    "outputId": "d14dd85e-12a9-4468-a830-db862051450f"
   },
   "outputs": [
    {
     "data": {
      "text/html": [
       "<style>#sk-container-id-3 {color: black;background-color: white;}#sk-container-id-3 pre{padding: 0;}#sk-container-id-3 div.sk-toggleable {background-color: white;}#sk-container-id-3 label.sk-toggleable__label {cursor: pointer;display: block;width: 100%;margin-bottom: 0;padding: 0.3em;box-sizing: border-box;text-align: center;}#sk-container-id-3 label.sk-toggleable__label-arrow:before {content: \"▸\";float: left;margin-right: 0.25em;color: #696969;}#sk-container-id-3 label.sk-toggleable__label-arrow:hover:before {color: black;}#sk-container-id-3 div.sk-estimator:hover label.sk-toggleable__label-arrow:before {color: black;}#sk-container-id-3 div.sk-toggleable__content {max-height: 0;max-width: 0;overflow: hidden;text-align: left;background-color: #f0f8ff;}#sk-container-id-3 div.sk-toggleable__content pre {margin: 0.2em;color: black;border-radius: 0.25em;background-color: #f0f8ff;}#sk-container-id-3 input.sk-toggleable__control:checked~div.sk-toggleable__content {max-height: 200px;max-width: 100%;overflow: auto;}#sk-container-id-3 input.sk-toggleable__control:checked~label.sk-toggleable__label-arrow:before {content: \"▾\";}#sk-container-id-3 div.sk-estimator input.sk-toggleable__control:checked~label.sk-toggleable__label {background-color: #d4ebff;}#sk-container-id-3 div.sk-label input.sk-toggleable__control:checked~label.sk-toggleable__label {background-color: #d4ebff;}#sk-container-id-3 input.sk-hidden--visually {border: 0;clip: rect(1px 1px 1px 1px);clip: rect(1px, 1px, 1px, 1px);height: 1px;margin: -1px;overflow: hidden;padding: 0;position: absolute;width: 1px;}#sk-container-id-3 div.sk-estimator {font-family: monospace;background-color: #f0f8ff;border: 1px dotted black;border-radius: 0.25em;box-sizing: border-box;margin-bottom: 0.5em;}#sk-container-id-3 div.sk-estimator:hover {background-color: #d4ebff;}#sk-container-id-3 div.sk-parallel-item::after {content: \"\";width: 100%;border-bottom: 1px solid gray;flex-grow: 1;}#sk-container-id-3 div.sk-label:hover label.sk-toggleable__label {background-color: #d4ebff;}#sk-container-id-3 div.sk-serial::before {content: \"\";position: absolute;border-left: 1px solid gray;box-sizing: border-box;top: 0;bottom: 0;left: 50%;z-index: 0;}#sk-container-id-3 div.sk-serial {display: flex;flex-direction: column;align-items: center;background-color: white;padding-right: 0.2em;padding-left: 0.2em;position: relative;}#sk-container-id-3 div.sk-item {position: relative;z-index: 1;}#sk-container-id-3 div.sk-parallel {display: flex;align-items: stretch;justify-content: center;background-color: white;position: relative;}#sk-container-id-3 div.sk-item::before, #sk-container-id-3 div.sk-parallel-item::before {content: \"\";position: absolute;border-left: 1px solid gray;box-sizing: border-box;top: 0;bottom: 0;left: 50%;z-index: -1;}#sk-container-id-3 div.sk-parallel-item {display: flex;flex-direction: column;z-index: 1;position: relative;background-color: white;}#sk-container-id-3 div.sk-parallel-item:first-child::after {align-self: flex-end;width: 50%;}#sk-container-id-3 div.sk-parallel-item:last-child::after {align-self: flex-start;width: 50%;}#sk-container-id-3 div.sk-parallel-item:only-child::after {width: 0;}#sk-container-id-3 div.sk-dashed-wrapped {border: 1px dashed gray;margin: 0 0.4em 0.5em 0.4em;box-sizing: border-box;padding-bottom: 0.4em;background-color: white;}#sk-container-id-3 div.sk-label label {font-family: monospace;font-weight: bold;display: inline-block;line-height: 1.2em;}#sk-container-id-3 div.sk-label-container {text-align: center;}#sk-container-id-3 div.sk-container {/* jupyter's `normalize.less` sets `[hidden] { display: none; }` but bootstrap.min.css set `[hidden] { display: none !important; }` so we also need the `!important` here to be able to override the default hidden behavior on the sphinx rendered scikit-learn.org. See: https://github.com/scikit-learn/scikit-learn/issues/21755 */display: inline-block !important;position: relative;}#sk-container-id-3 div.sk-text-repr-fallback {display: none;}</style><div id=\"sk-container-id-3\" class=\"sk-top-container\"><div class=\"sk-text-repr-fallback\"><pre>DBSCAN(eps=5, min_samples=200, n_jobs=-1)</pre><b>In a Jupyter environment, please rerun this cell to show the HTML representation or trust the notebook. <br />On GitHub, the HTML representation is unable to render, please try loading this page with nbviewer.org.</b></div><div class=\"sk-container\" hidden><div class=\"sk-item\"><div class=\"sk-estimator sk-toggleable\"><input class=\"sk-toggleable__control sk-hidden--visually\" id=\"sk-estimator-id-3\" type=\"checkbox\" checked><label for=\"sk-estimator-id-3\" class=\"sk-toggleable__label sk-toggleable__label-arrow\">DBSCAN</label><div class=\"sk-toggleable__content\"><pre>DBSCAN(eps=5, min_samples=200, n_jobs=-1)</pre></div></div></div></div></div>"
      ],
      "text/plain": [
       "DBSCAN(eps=5, min_samples=200, n_jobs=-1)"
      ]
     },
     "execution_count": 35,
     "metadata": {},
     "output_type": "execute_result"
    }
   ],
   "source": [
    "import gensim\n",
    "\n",
    "# Train Word2Vec model\n",
    "list_of_sent_train = list()\n",
    "for i in new[\"Lower casing\"].values:\n",
    "  list_of_sent_train.append(i.split())\n",
    "w2v_model = gensim.models.Word2Vec(list_of_sent_train, workers=4)\n",
    "\n",
    "import numpy as np\n",
    "\n",
    "# Create sentence vectors using trained Word2Vec model\n",
    "sent_vectors = []\n",
    "count = 1\n",
    "for sent in list_of_sent_train:\n",
    "    sent_vec = np.zeros(100)\n",
    "    cnt_words = 1\n",
    "    for word in sent:\n",
    "        try:\n",
    "            vec = w2v_model.wv[word]\n",
    "            sent_vec += vec\n",
    "            cnt_words += 1\n",
    "        except:\n",
    "            pass\n",
    "    sent_vec /= cnt_words\n",
    "    sent_vectors.append(sent_vec)\n",
    "sent_vectors = np.array(sent_vectors)\n",
    "sent_vectors = np.nan_to_num(sent_vectors)\n",
    "\n",
    "# Calculate 200th nearest neighbor for each sentence vector\n",
    "twohundrethneigh = []\n",
    "for val in sent_vectors[:300]:\n",
    "    twohundrethneigh.append(compute200thnearestneighbour(val, sent_vectors[:300]))\n",
    "twohundrethneigh.sort()\n",
    "\n",
    "# Train DBSCAN model\n",
    "model = DBSCAN(eps=5, min_samples=minPts, n_jobs=-1)\n",
    "model.fit(sent_vectors)\n"
   ]
  },
  {
   "cell_type": "code",
   "execution_count": null,
   "metadata": {
    "colab": {
     "base_uri": "https://localhost:8080/",
     "height": 206
    },
    "id": "e38R9yCnT7ao",
    "outputId": "18f091c5-73f8-4561-8506-5f7e58c94b37"
   },
   "outputs": [
    {
     "data": {
      "text/html": [
       "\n",
       "  <div id=\"df-3d74dc54-e7d8-4c3e-85e9-b570c1015450\">\n",
       "    <div class=\"colab-df-container\">\n",
       "      <div>\n",
       "<style scoped>\n",
       "    .dataframe tbody tr th:only-of-type {\n",
       "        vertical-align: middle;\n",
       "    }\n",
       "\n",
       "    .dataframe tbody tr th {\n",
       "        vertical-align: top;\n",
       "    }\n",
       "\n",
       "    .dataframe thead th {\n",
       "        text-align: right;\n",
       "    }\n",
       "</style>\n",
       "<table border=\"1\" class=\"dataframe\">\n",
       "  <thead>\n",
       "    <tr style=\"text-align: right;\">\n",
       "      <th></th>\n",
       "      <th>Lemmatization</th>\n",
       "      <th>AVG-W2V Clus Label</th>\n",
       "    </tr>\n",
       "  </thead>\n",
       "  <tbody>\n",
       "    <tr>\n",
       "      <th>0</th>\n",
       "      <td>i feel lucki found use phone u use hard phone ...</td>\n",
       "      <td>0</td>\n",
       "    </tr>\n",
       "    <tr>\n",
       "      <th>1</th>\n",
       "      <td>nice phone nice grade pantach revu veri clean ...</td>\n",
       "      <td>0</td>\n",
       "    </tr>\n",
       "    <tr>\n",
       "      <th>2</th>\n",
       "      <td>veri plea</td>\n",
       "      <td>0</td>\n",
       "    </tr>\n",
       "    <tr>\n",
       "      <th>3</th>\n",
       "      <td>it work good goe slow sometim good phone i love</td>\n",
       "      <td>0</td>\n",
       "    </tr>\n",
       "    <tr>\n",
       "      <th>4</th>\n",
       "      <td>great phone replac lost phone the thing volum ...</td>\n",
       "      <td>0</td>\n",
       "    </tr>\n",
       "  </tbody>\n",
       "</table>\n",
       "</div>\n",
       "      <button class=\"colab-df-convert\" onclick=\"convertToInteractive('df-3d74dc54-e7d8-4c3e-85e9-b570c1015450')\"\n",
       "              title=\"Convert this dataframe to an interactive table.\"\n",
       "              style=\"display:none;\">\n",
       "        \n",
       "  <svg xmlns=\"http://www.w3.org/2000/svg\" height=\"24px\"viewBox=\"0 0 24 24\"\n",
       "       width=\"24px\">\n",
       "    <path d=\"M0 0h24v24H0V0z\" fill=\"none\"/>\n",
       "    <path d=\"M18.56 5.44l.94 2.06.94-2.06 2.06-.94-2.06-.94-.94-2.06-.94 2.06-2.06.94zm-11 1L8.5 8.5l.94-2.06 2.06-.94-2.06-.94L8.5 2.5l-.94 2.06-2.06.94zm10 10l.94 2.06.94-2.06 2.06-.94-2.06-.94-.94-2.06-.94 2.06-2.06.94z\"/><path d=\"M17.41 7.96l-1.37-1.37c-.4-.4-.92-.59-1.43-.59-.52 0-1.04.2-1.43.59L10.3 9.45l-7.72 7.72c-.78.78-.78 2.05 0 2.83L4 21.41c.39.39.9.59 1.41.59.51 0 1.02-.2 1.41-.59l7.78-7.78 2.81-2.81c.8-.78.8-2.07 0-2.86zM5.41 20L4 18.59l7.72-7.72 1.47 1.35L5.41 20z\"/>\n",
       "  </svg>\n",
       "      </button>\n",
       "      \n",
       "  <style>\n",
       "    .colab-df-container {\n",
       "      display:flex;\n",
       "      flex-wrap:wrap;\n",
       "      gap: 12px;\n",
       "    }\n",
       "\n",
       "    .colab-df-convert {\n",
       "      background-color: #E8F0FE;\n",
       "      border: none;\n",
       "      border-radius: 50%;\n",
       "      cursor: pointer;\n",
       "      display: none;\n",
       "      fill: #1967D2;\n",
       "      height: 32px;\n",
       "      padding: 0 0 0 0;\n",
       "      width: 32px;\n",
       "    }\n",
       "\n",
       "    .colab-df-convert:hover {\n",
       "      background-color: #E2EBFA;\n",
       "      box-shadow: 0px 1px 2px rgba(60, 64, 67, 0.3), 0px 1px 3px 1px rgba(60, 64, 67, 0.15);\n",
       "      fill: #174EA6;\n",
       "    }\n",
       "\n",
       "    [theme=dark] .colab-df-convert {\n",
       "      background-color: #3B4455;\n",
       "      fill: #D2E3FC;\n",
       "    }\n",
       "\n",
       "    [theme=dark] .colab-df-convert:hover {\n",
       "      background-color: #434B5C;\n",
       "      box-shadow: 0px 1px 3px 1px rgba(0, 0, 0, 0.15);\n",
       "      filter: drop-shadow(0px 1px 2px rgba(0, 0, 0, 0.3));\n",
       "      fill: #FFFFFF;\n",
       "    }\n",
       "  </style>\n",
       "\n",
       "      <script>\n",
       "        const buttonEl =\n",
       "          document.querySelector('#df-3d74dc54-e7d8-4c3e-85e9-b570c1015450 button.colab-df-convert');\n",
       "        buttonEl.style.display =\n",
       "          google.colab.kernel.accessAllowed ? 'block' : 'none';\n",
       "\n",
       "        async function convertToInteractive(key) {\n",
       "          const element = document.querySelector('#df-3d74dc54-e7d8-4c3e-85e9-b570c1015450');\n",
       "          const dataTable =\n",
       "            await google.colab.kernel.invokeFunction('convertToInteractive',\n",
       "                                                     [key], {});\n",
       "          if (!dataTable) return;\n",
       "\n",
       "          const docLinkHtml = 'Like what you see? Visit the ' +\n",
       "            '<a target=\"_blank\" href=https://colab.research.google.com/notebooks/data_table.ipynb>data table notebook</a>'\n",
       "            + ' to learn more about interactive tables.';\n",
       "          element.innerHTML = '';\n",
       "          dataTable['output_type'] = 'display_data';\n",
       "          await google.colab.output.renderOutput(dataTable, element);\n",
       "          const docLink = document.createElement('div');\n",
       "          docLink.innerHTML = docLinkHtml;\n",
       "          element.appendChild(docLink);\n",
       "        }\n",
       "      </script>\n",
       "    </div>\n",
       "  </div>\n",
       "  "
      ],
      "text/plain": [
       "                                       Lemmatization  AVG-W2V Clus Label\n",
       "0  i feel lucki found use phone u use hard phone ...                   0\n",
       "1  nice phone nice grade pantach revu veri clean ...                   0\n",
       "2                                          veri plea                   0\n",
       "3    it work good goe slow sometim good phone i love                   0\n",
       "4  great phone replac lost phone the thing volum ...                   0"
      ]
     },
     "execution_count": 36,
     "metadata": {},
     "output_type": "execute_result"
    }
   ],
   "source": [
    "new['AVG-W2V Clus Label'] = model.labels_\n",
    "new[['Lemmatization','AVG-W2V Clus Label']].head()"
   ]
  },
  {
   "cell_type": "code",
   "execution_count": null,
   "metadata": {
    "id": "uvEvCdG-41nS"
   },
   "outputs": [],
   "source": [
    "#Implementing Hierarchial Clustering\n",
    "import scipy\n",
    "from scipy.cluster import hierarchy"
   ]
  },
  {
   "cell_type": "code",
   "execution_count": null,
   "metadata": {
    "colab": {
     "base_uri": "https://localhost:8080/",
     "height": 822
    },
    "id": "ZCBQTasxUIWR",
    "outputId": "235835c6-26a2-406f-cb1f-358ab77881c5"
   },
   "outputs": [
    {
     "data": {
      "text/html": [
       "\n",
       "  <div id=\"df-0fe3c706-7c18-4d80-9bd8-1f4d68619bf6\">\n",
       "    <div class=\"colab-df-container\">\n",
       "      <div>\n",
       "<style scoped>\n",
       "    .dataframe tbody tr th:only-of-type {\n",
       "        vertical-align: middle;\n",
       "    }\n",
       "\n",
       "    .dataframe tbody tr th {\n",
       "        vertical-align: top;\n",
       "    }\n",
       "\n",
       "    .dataframe thead th {\n",
       "        text-align: right;\n",
       "    }\n",
       "</style>\n",
       "<table border=\"1\" class=\"dataframe\">\n",
       "  <thead>\n",
       "    <tr style=\"text-align: right;\">\n",
       "      <th></th>\n",
       "      <th>Product Name</th>\n",
       "      <th>Brand Name</th>\n",
       "      <th>Price</th>\n",
       "      <th>Rating</th>\n",
       "      <th>Reviews</th>\n",
       "      <th>Review Votes</th>\n",
       "      <th>After noise removal</th>\n",
       "      <th>Punctuation removal</th>\n",
       "      <th>Remove numbers</th>\n",
       "      <th>Stopwords removal</th>\n",
       "      <th>Lower casing</th>\n",
       "      <th>Tokenization</th>\n",
       "      <th>Stemming</th>\n",
       "      <th>Lemmatization</th>\n",
       "      <th>Tfidf Clus Label</th>\n",
       "      <th>Bow Label</th>\n",
       "      <th>AVG-W2V Clus Label</th>\n",
       "    </tr>\n",
       "  </thead>\n",
       "  <tbody>\n",
       "    <tr>\n",
       "      <th>0</th>\n",
       "      <td>\"CLEAR CLEAN ESN\" Sprint EPIC 4G Galaxy SPH-D7...</td>\n",
       "      <td>Samsung</td>\n",
       "      <td>199.99</td>\n",
       "      <td>5</td>\n",
       "      <td>I feel so LUCKY to have found this used (phone...</td>\n",
       "      <td>1.0</td>\n",
       "      <td>I feel so LUCKY to have found this used  phone...</td>\n",
       "      <td>I feel so LUCKY to have found this used  phone...</td>\n",
       "      <td>I feel so LUCKY to have found this used  phone...</td>\n",
       "      <td>I feel LUCKY found used phone us used hard pho...</td>\n",
       "      <td>i feel lucky found used phone us used hard pho...</td>\n",
       "      <td>[i, feel, lucky, found, used, phone, us, used,...</td>\n",
       "      <td>i feel lucki found use phone us use hard phone...</td>\n",
       "      <td>i feel lucki found use phone u use hard phone ...</td>\n",
       "      <td>8</td>\n",
       "      <td>9</td>\n",
       "      <td>2</td>\n",
       "    </tr>\n",
       "    <tr>\n",
       "      <th>1</th>\n",
       "      <td>\"CLEAR CLEAN ESN\" Sprint EPIC 4G Galaxy SPH-D7...</td>\n",
       "      <td>Samsung</td>\n",
       "      <td>199.99</td>\n",
       "      <td>4</td>\n",
       "      <td>nice phone, nice up grade from my pantach revu...</td>\n",
       "      <td>0.0</td>\n",
       "      <td>nice phone  nice up grade from my pantach revu...</td>\n",
       "      <td>nice phone  nice up grade from my pantach revu...</td>\n",
       "      <td>nice phone  nice up grade from my pantach revu...</td>\n",
       "      <td>nice phone nice grade pantach revue Very clean...</td>\n",
       "      <td>nice phone nice grade pantach revue very clean...</td>\n",
       "      <td>[nice, phone, nice, grade, pantach, revue, ver...</td>\n",
       "      <td>nice phone nice grade pantach revu veri clean ...</td>\n",
       "      <td>nice phone nice grade pantach revu veri clean ...</td>\n",
       "      <td>8</td>\n",
       "      <td>0</td>\n",
       "      <td>2</td>\n",
       "    </tr>\n",
       "    <tr>\n",
       "      <th>2</th>\n",
       "      <td>\"CLEAR CLEAN ESN\" Sprint EPIC 4G Galaxy SPH-D7...</td>\n",
       "      <td>Samsung</td>\n",
       "      <td>199.99</td>\n",
       "      <td>5</td>\n",
       "      <td>Very pleased</td>\n",
       "      <td>0.0</td>\n",
       "      <td>Very pleased</td>\n",
       "      <td>Very pleased</td>\n",
       "      <td>Very pleased</td>\n",
       "      <td>Very pleased</td>\n",
       "      <td>very pleased</td>\n",
       "      <td>[very, pleased]</td>\n",
       "      <td>veri pleas</td>\n",
       "      <td>veri plea</td>\n",
       "      <td>6</td>\n",
       "      <td>0</td>\n",
       "      <td>3</td>\n",
       "    </tr>\n",
       "    <tr>\n",
       "      <th>3</th>\n",
       "      <td>\"CLEAR CLEAN ESN\" Sprint EPIC 4G Galaxy SPH-D7...</td>\n",
       "      <td>Samsung</td>\n",
       "      <td>199.99</td>\n",
       "      <td>4</td>\n",
       "      <td>It works good but it goes slow sometimes but i...</td>\n",
       "      <td>0.0</td>\n",
       "      <td>It works good but it goes slow sometimes but i...</td>\n",
       "      <td>It works good but it goes slow sometimes but i...</td>\n",
       "      <td>It works good but it goes slow sometimes but i...</td>\n",
       "      <td>It works good goes slow sometimes good phone I...</td>\n",
       "      <td>it works good goes slow sometimes good phone i...</td>\n",
       "      <td>[it, works, good, goes, slow, sometimes, good,...</td>\n",
       "      <td>it work good goe slow sometim good phone i love</td>\n",
       "      <td>it work good goe slow sometim good phone i love</td>\n",
       "      <td>0</td>\n",
       "      <td>0</td>\n",
       "      <td>1</td>\n",
       "    </tr>\n",
       "    <tr>\n",
       "      <th>4</th>\n",
       "      <td>\"CLEAR CLEAN ESN\" Sprint EPIC 4G Galaxy SPH-D7...</td>\n",
       "      <td>Samsung</td>\n",
       "      <td>199.99</td>\n",
       "      <td>4</td>\n",
       "      <td>Great phone to replace my lost phone. The only...</td>\n",
       "      <td>0.0</td>\n",
       "      <td>Great phone to replace my lost phone  The only...</td>\n",
       "      <td>Great phone to replace my lost phone  The only...</td>\n",
       "      <td>Great phone to replace my lost phone  The only...</td>\n",
       "      <td>Great phone replace lost phone The thing volum...</td>\n",
       "      <td>great phone replace lost phone the thing volum...</td>\n",
       "      <td>[great, phone, replace, lost, phone, the, thin...</td>\n",
       "      <td>great phone replac lost phone the thing volum ...</td>\n",
       "      <td>great phone replac lost phone the thing volum ...</td>\n",
       "      <td>8</td>\n",
       "      <td>9</td>\n",
       "      <td>1</td>\n",
       "    </tr>\n",
       "  </tbody>\n",
       "</table>\n",
       "</div>\n",
       "      <button class=\"colab-df-convert\" onclick=\"convertToInteractive('df-0fe3c706-7c18-4d80-9bd8-1f4d68619bf6')\"\n",
       "              title=\"Convert this dataframe to an interactive table.\"\n",
       "              style=\"display:none;\">\n",
       "        \n",
       "  <svg xmlns=\"http://www.w3.org/2000/svg\" height=\"24px\"viewBox=\"0 0 24 24\"\n",
       "       width=\"24px\">\n",
       "    <path d=\"M0 0h24v24H0V0z\" fill=\"none\"/>\n",
       "    <path d=\"M18.56 5.44l.94 2.06.94-2.06 2.06-.94-2.06-.94-.94-2.06-.94 2.06-2.06.94zm-11 1L8.5 8.5l.94-2.06 2.06-.94-2.06-.94L8.5 2.5l-.94 2.06-2.06.94zm10 10l.94 2.06.94-2.06 2.06-.94-2.06-.94-.94-2.06-.94 2.06-2.06.94z\"/><path d=\"M17.41 7.96l-1.37-1.37c-.4-.4-.92-.59-1.43-.59-.52 0-1.04.2-1.43.59L10.3 9.45l-7.72 7.72c-.78.78-.78 2.05 0 2.83L4 21.41c.39.39.9.59 1.41.59.51 0 1.02-.2 1.41-.59l7.78-7.78 2.81-2.81c.8-.78.8-2.07 0-2.86zM5.41 20L4 18.59l7.72-7.72 1.47 1.35L5.41 20z\"/>\n",
       "  </svg>\n",
       "      </button>\n",
       "      \n",
       "  <style>\n",
       "    .colab-df-container {\n",
       "      display:flex;\n",
       "      flex-wrap:wrap;\n",
       "      gap: 12px;\n",
       "    }\n",
       "\n",
       "    .colab-df-convert {\n",
       "      background-color: #E8F0FE;\n",
       "      border: none;\n",
       "      border-radius: 50%;\n",
       "      cursor: pointer;\n",
       "      display: none;\n",
       "      fill: #1967D2;\n",
       "      height: 32px;\n",
       "      padding: 0 0 0 0;\n",
       "      width: 32px;\n",
       "    }\n",
       "\n",
       "    .colab-df-convert:hover {\n",
       "      background-color: #E2EBFA;\n",
       "      box-shadow: 0px 1px 2px rgba(60, 64, 67, 0.3), 0px 1px 3px 1px rgba(60, 64, 67, 0.15);\n",
       "      fill: #174EA6;\n",
       "    }\n",
       "\n",
       "    [theme=dark] .colab-df-convert {\n",
       "      background-color: #3B4455;\n",
       "      fill: #D2E3FC;\n",
       "    }\n",
       "\n",
       "    [theme=dark] .colab-df-convert:hover {\n",
       "      background-color: #434B5C;\n",
       "      box-shadow: 0px 1px 3px 1px rgba(0, 0, 0, 0.15);\n",
       "      filter: drop-shadow(0px 1px 2px rgba(0, 0, 0, 0.3));\n",
       "      fill: #FFFFFF;\n",
       "    }\n",
       "  </style>\n",
       "\n",
       "      <script>\n",
       "        const buttonEl =\n",
       "          document.querySelector('#df-0fe3c706-7c18-4d80-9bd8-1f4d68619bf6 button.colab-df-convert');\n",
       "        buttonEl.style.display =\n",
       "          google.colab.kernel.accessAllowed ? 'block' : 'none';\n",
       "\n",
       "        async function convertToInteractive(key) {\n",
       "          const element = document.querySelector('#df-0fe3c706-7c18-4d80-9bd8-1f4d68619bf6');\n",
       "          const dataTable =\n",
       "            await google.colab.kernel.invokeFunction('convertToInteractive',\n",
       "                                                     [key], {});\n",
       "          if (!dataTable) return;\n",
       "\n",
       "          const docLinkHtml = 'Like what you see? Visit the ' +\n",
       "            '<a target=\"_blank\" href=https://colab.research.google.com/notebooks/data_table.ipynb>data table notebook</a>'\n",
       "            + ' to learn more about interactive tables.';\n",
       "          element.innerHTML = '';\n",
       "          dataTable['output_type'] = 'display_data';\n",
       "          await google.colab.output.renderOutput(dataTable, element);\n",
       "          const docLink = document.createElement('div');\n",
       "          docLink.innerHTML = docLinkHtml;\n",
       "          element.appendChild(docLink);\n",
       "        }\n",
       "      </script>\n",
       "    </div>\n",
       "  </div>\n",
       "  "
      ],
      "text/plain": [
       "                                        Product Name Brand Name   Price  \\\n",
       "0  \"CLEAR CLEAN ESN\" Sprint EPIC 4G Galaxy SPH-D7...    Samsung  199.99   \n",
       "1  \"CLEAR CLEAN ESN\" Sprint EPIC 4G Galaxy SPH-D7...    Samsung  199.99   \n",
       "2  \"CLEAR CLEAN ESN\" Sprint EPIC 4G Galaxy SPH-D7...    Samsung  199.99   \n",
       "3  \"CLEAR CLEAN ESN\" Sprint EPIC 4G Galaxy SPH-D7...    Samsung  199.99   \n",
       "4  \"CLEAR CLEAN ESN\" Sprint EPIC 4G Galaxy SPH-D7...    Samsung  199.99   \n",
       "\n",
       "   Rating                                            Reviews  Review Votes  \\\n",
       "0       5  I feel so LUCKY to have found this used (phone...           1.0   \n",
       "1       4  nice phone, nice up grade from my pantach revu...           0.0   \n",
       "2       5                                       Very pleased           0.0   \n",
       "3       4  It works good but it goes slow sometimes but i...           0.0   \n",
       "4       4  Great phone to replace my lost phone. The only...           0.0   \n",
       "\n",
       "                                 After noise removal  \\\n",
       "0  I feel so LUCKY to have found this used  phone...   \n",
       "1  nice phone  nice up grade from my pantach revu...   \n",
       "2                                       Very pleased   \n",
       "3  It works good but it goes slow sometimes but i...   \n",
       "4  Great phone to replace my lost phone  The only...   \n",
       "\n",
       "                                 Punctuation removal  \\\n",
       "0  I feel so LUCKY to have found this used  phone...   \n",
       "1  nice phone  nice up grade from my pantach revu...   \n",
       "2                                       Very pleased   \n",
       "3  It works good but it goes slow sometimes but i...   \n",
       "4  Great phone to replace my lost phone  The only...   \n",
       "\n",
       "                                      Remove numbers  \\\n",
       "0  I feel so LUCKY to have found this used  phone...   \n",
       "1  nice phone  nice up grade from my pantach revu...   \n",
       "2                                       Very pleased   \n",
       "3  It works good but it goes slow sometimes but i...   \n",
       "4  Great phone to replace my lost phone  The only...   \n",
       "\n",
       "                                   Stopwords removal  \\\n",
       "0  I feel LUCKY found used phone us used hard pho...   \n",
       "1  nice phone nice grade pantach revue Very clean...   \n",
       "2                                       Very pleased   \n",
       "3  It works good goes slow sometimes good phone I...   \n",
       "4  Great phone replace lost phone The thing volum...   \n",
       "\n",
       "                                        Lower casing  \\\n",
       "0  i feel lucky found used phone us used hard pho...   \n",
       "1  nice phone nice grade pantach revue very clean...   \n",
       "2                                       very pleased   \n",
       "3  it works good goes slow sometimes good phone i...   \n",
       "4  great phone replace lost phone the thing volum...   \n",
       "\n",
       "                                        Tokenization  \\\n",
       "0  [i, feel, lucky, found, used, phone, us, used,...   \n",
       "1  [nice, phone, nice, grade, pantach, revue, ver...   \n",
       "2                                    [very, pleased]   \n",
       "3  [it, works, good, goes, slow, sometimes, good,...   \n",
       "4  [great, phone, replace, lost, phone, the, thin...   \n",
       "\n",
       "                                            Stemming  \\\n",
       "0  i feel lucki found use phone us use hard phone...   \n",
       "1  nice phone nice grade pantach revu veri clean ...   \n",
       "2                                         veri pleas   \n",
       "3    it work good goe slow sometim good phone i love   \n",
       "4  great phone replac lost phone the thing volum ...   \n",
       "\n",
       "                                       Lemmatization  Tfidf Clus Label  \\\n",
       "0  i feel lucki found use phone u use hard phone ...                 8   \n",
       "1  nice phone nice grade pantach revu veri clean ...                 8   \n",
       "2                                          veri plea                 6   \n",
       "3    it work good goe slow sometim good phone i love                 0   \n",
       "4  great phone replac lost phone the thing volum ...                 8   \n",
       "\n",
       "   Bow Label  AVG-W2V Clus Label  \n",
       "0          9                   2  \n",
       "1          0                   2  \n",
       "2          0                   3  \n",
       "3          0                   1  \n",
       "4          9                   1  "
      ]
     },
     "execution_count": 38,
     "metadata": {},
     "output_type": "execute_result"
    }
   ],
   "source": [
    "from sklearn.cluster import AgglomerativeClustering\n",
    "\n",
    "# Instantiate AgglomerativeClustering object with the number of clusters, affinity measure, and linkage criteria\n",
    "cluster = AgglomerativeClustering(n_clusters=5, affinity='euclidean', linkage='ward') \n",
    "\n",
    "# Fit the clustering model to the sent_vectors data using the fit_predict() method\n",
    "Agg = cluster.fit_predict(sent_vectors)\n",
    "\n",
    "# Create a new DataFrame called \"hier\" with the same data as the \"new\" DataFrame\n",
    "hier = new\n",
    "\n",
    "# Assign the cluster labels to the AVG-W2V Clus Label column of the hier DataFrame\n",
    "hier['AVG-W2V Clus Label'] = cluster.labels_\n",
    "\n",
    "# Display the first 5 rows of the hier DataFrame\n",
    "hier.head(5)\n"
   ]
  },
  {
   "cell_type": "code",
   "execution_count": null,
   "metadata": {
    "colab": {
     "base_uri": "https://localhost:8080/"
    },
    "id": "ApWMf9wMc4nW",
    "outputId": "9c1b2d0a-3ffa-4aff-ed41-39f8ad224823"
   },
   "outputs": [
    {
     "name": "stdout",
     "output_type": "stream",
     "text": [
      "2 reviews of assigned to cluster  0\n",
      "----------------------------------------------------------------------\n",
      "unfortun sprint could activ phone due block issu phone matter handl well quickli veri satisfi servic\n",
      "\n",
      "\n",
      "pro beauti screen capabl run chrome take good pictur keyboard comfi fit pocket fit hand play realli good video gamescon bluetooth came late run fast realli quick doesnt play p video i would still recommend like talk text lot like watch lot movi\n",
      "\n",
      "\n",
      "______________________________________________________________________\n",
      "2 reviews of assigned to cluster  1\n",
      "----------------------------------------------------------------------\n",
      "it work good goe slow sometim good phone i love\n",
      "\n",
      "\n",
      "great phone replac lost phone the thing volum button work i still go set adjust other job i elig upgrad phone thaank\n",
      "\n",
      "\n",
      "______________________________________________________________________\n",
      "2 reviews of assigned to cluster  2\n",
      "----------------------------------------------------------------------\n",
      "i feel lucki found use phone u use hard phone line someon upgrad sold one my son like old one final fell apart year want upgrad thank seller realli appreci honesti said use phone i recommend seller highli would\n",
      "\n",
      "\n",
      "nice phone nice grade pantach revu veri clean set easi set never android phone fantast say least perfect size surf social medium great phone samsung\n",
      "\n",
      "\n",
      "______________________________________________________________________\n",
      "2 reviews of assigned to cluster  3\n",
      "----------------------------------------------------------------------\n",
      "veri plea\n",
      "\n",
      "\n",
      "excel\n",
      "\n",
      "\n",
      "______________________________________________________________________\n",
      "2 reviews of assigned to cluster  4\n",
      "----------------------------------------------------------------------\n",
      "excelent\n",
      "\n",
      "\n",
      "excelent\n",
      "\n",
      "\n",
      "______________________________________________________________________\n"
     ]
    }
   ],
   "source": [
    "# Reading a review which belong to each group.\n",
    "for i in range(5):\n",
    "    print(\"2 reviews of assigned to cluster \", i)\n",
    "    print(\"-\" * 70)\n",
    "    print(hier.iloc[hier.groupby(['AVG-W2V Clus Label']).groups[i][0]]['Lemmatization'])\n",
    "    print('\\n')\n",
    "    print(hier.iloc[hier.groupby(['AVG-W2V Clus Label']).groups[i][1]]['Lemmatization'])\n",
    "    print('\\n')\n",
    "    print(\"_\" * 70)"
   ]
  },
  {
   "cell_type": "code",
   "execution_count": null,
   "metadata": {
    "colab": {
     "base_uri": "https://localhost:8080/"
    },
    "id": "rWbhsY8UUIQ2",
    "outputId": "47b109c3-6b44-44f2-99c7-6d66f0bf2755"
   },
   "outputs": [
    {
     "data": {
      "text/plain": [
       "AVG-W2V Clus Label\n",
       "0    336\n",
       "1    144\n",
       "2    372\n",
       "3     48\n",
       "4    100\n",
       "Name: Reviews, dtype: int64"
      ]
     },
     "execution_count": 40,
     "metadata": {},
     "output_type": "execute_result"
    }
   ],
   "source": [
    "hier.groupby(['AVG-W2V Clus Label'])['Reviews'].count()"
   ]
  },
  {
   "cell_type": "markdown",
   "metadata": {
    "id": "Wxnb270141nS"
   },
   "source": [
    "In one paragraph, please compare the results of K-means, DBSCAN, Hierarchical clustering, Word2Vec, and BERT."
   ]
  },
  {
   "cell_type": "markdown",
   "metadata": {
    "id": "pKfSKzb-btPv"
   },
   "source": [
    "The distance between the data points and the centroids of the clusters itself serves as the basis for K-means clustering. For clustering based on density, DBSCAN is utilized. Here, the areas with the highest point densities are located and separated from void areas. As the name suggests, layering is a component of hierarchical clustering. Each data point is first taken into account as a separate cluster, and the two clusters closest to one another are then identified.\n",
    "\n"
   ]
  }
 ],
 "metadata": {
  "accelerator": "GPU",
  "colab": {
   "include_colab_link": true,
   "provenance": []
  },
  "gpuClass": "standard",
  "kernelspec": {
   "display_name": "Python 3 (ipykernel)",
   "language": "python",
   "name": "python3"
  },
  "language_info": {
   "codemirror_mode": {
    "name": "ipython",
    "version": 3
   },
   "file_extension": ".py",
   "mimetype": "text/x-python",
   "name": "python",
   "nbconvert_exporter": "python",
   "pygments_lexer": "ipython3",
   "version": "3.11.5"
  }
 },
 "nbformat": 4,
 "nbformat_minor": 1
}
