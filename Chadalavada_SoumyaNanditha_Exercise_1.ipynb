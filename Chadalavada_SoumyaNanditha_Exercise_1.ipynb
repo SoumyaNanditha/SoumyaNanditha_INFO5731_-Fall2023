{
 "cells": [
  {
   "cell_type": "markdown",
   "metadata": {
    "id": "view-in-github"
   },
   "source": [
    "<a href=\"https://colab.research.google.com/github/unt-iialab/INFO5731_Spring2020/blob/master/In_class_exercise/In_class_exercise_01.ipynb\" target=\"_parent\"><img src=\"https://colab.research.google.com/assets/colab-badge.svg\" alt=\"Open In Colab\"/></a>"
   ]
  },
  {
   "cell_type": "markdown",
   "metadata": {
    "id": "DymRJbxDBCnf"
   },
   "source": [
    "# **The first In-class-exercise (08/30/2023, 40 points in total)**\n",
    "This exercise is due tomorrow 08/31/203 11:59 PM.\n"
   ]
  },
  {
   "cell_type": "markdown",
   "metadata": {
    "id": "FBKvD6O_TY6e"
   },
   "source": [
    "(1) Write a Python program to calculate the area of a rectangle using user-input length and width."
   ]
  },
  {
   "cell_type": "code",
   "execution_count": 1,
   "metadata": {
    "id": "cikVKDXdTbzE"
   },
   "outputs": [
    {
     "name": "stdout",
     "output_type": "stream",
     "text": [
      "Enter the length of rectangle: 42\n",
      "Enter the width of rectangle: 68\n",
      "Area of rectangle is  2856.0\n"
     ]
    }
   ],
   "source": [
    "# Taking user input for length and width using input function\n",
    "length = input('Enter the length of rectangle: ')\n",
    "width= input('Enter the width of rectangle: ')\n",
    "# Area is calculated using formula\n",
    "area=float(length)*float(width)\n",
    "print(\"Area of rectangle is \",area)"
   ]
  },
  {
   "cell_type": "markdown",
   "metadata": {
    "id": "E9RqrlwdTfvl"
   },
   "source": [
    "(2) Create a program that takes two numbers from the user and swaps their values without using a temporary variable."
   ]
  },
  {
   "cell_type": "code",
   "execution_count": 2,
   "metadata": {
    "id": "4XvRknixTh1g"
   },
   "outputs": [
    {
     "name": "stdout",
     "output_type": "stream",
     "text": [
      "Enter first number: 54\n",
      "Enter second number: 23\n",
      "The values of first number and second number are  23.0  and  54.0\n"
     ]
    }
   ],
   "source": [
    "# Taking user input for both numbers using input function\n",
    "num1 = float(input('Enter first number: '))\n",
    "num2 = float(input('Enter second number: '))\n",
    "num1=num1+num2\n",
    "num2=num1-num2\n",
    "num1=num1-num2\n",
    "# printing values after swapping\n",
    "print(\"The values of first number and second number are \",num1,\" and \",num2)"
   ]
  },
  {
   "cell_type": "markdown",
   "metadata": {
    "id": "03jb4GZsBkBS"
   },
   "source": [
    "(3) Write a Python program to calculate the length of a string."
   ]
  },
  {
   "cell_type": "code",
   "execution_count": 3,
   "metadata": {
    "id": "YaGLbSHHB8Ej"
   },
   "outputs": [
    {
     "name": "stdout",
     "output_type": "stream",
     "text": [
      "15\n"
     ]
    }
   ],
   "source": [
    "a=\"Python Exercise\"\n",
    "\n",
    "print(len(a))\n"
   ]
  },
  {
   "cell_type": "markdown",
   "metadata": {
    "id": "jJDe71iLB616"
   },
   "source": [
    "(4) Write a Python program to count the number of characters in a string.\n",
    "\n",
    "Sample String : 'google.com‘,\n",
    "\n",
    "Expected Result : {'o': 3, 'g': 2, '.': 1, 'e': 1, 'l': 1, 'm': 1, 'c': 1}"
   ]
  },
  {
   "cell_type": "code",
   "execution_count": 4,
   "metadata": {
    "id": "MtKskTzbCLaU"
   },
   "outputs": [
    {
     "name": "stdout",
     "output_type": "stream",
     "text": [
      "Enter a string: Hey! There!!\n",
      "{'H': 1, 'e': 3, 'y': 1, '!': 3, ' ': 1, 'T': 1, 'h': 1, 'r': 1}\n"
     ]
    }
   ],
   "source": [
    "sample_string=input(\"Enter a string: \")\n",
    "# creating an empty dictionary to store the count of characters\n",
    "count_char= {}\n",
    "for i in sample_string:\n",
    "    if i in count_char:\n",
    "        count_char[i] += 1\n",
    "    else:\n",
    "        count_char[i] = 1\n",
    "print(count_char)\n",
    " \n"
   ]
  },
  {
   "cell_type": "markdown",
   "metadata": {
    "id": "55W9AMdXCSpV"
   },
   "source": [
    "(5) Write a Python program to sum all the items in a list."
   ]
  },
  {
   "cell_type": "code",
   "execution_count": 5,
   "metadata": {
    "id": "I57NXsauCec2"
   },
   "outputs": [
    {
     "name": "stdout",
     "output_type": "stream",
     "text": [
      "50\n"
     ]
    }
   ],
   "source": [
    "mylist=[5,10,15,20]\n",
    "sum=0\n",
    "for i in range(0,len(mylist)):\n",
    "    # calculating sum\n",
    "    sum=sum+mylist[i]\n",
    "print(sum)\n"
   ]
  },
  {
   "cell_type": "markdown",
   "metadata": {
    "id": "4ulBZ6yhCi9F"
   },
   "source": [
    "(6) Write a Python program to get a string from a given string where all occurrences of its first char have been changed to '\\$', except the first char itself.\n",
    "\n",
    "Sample String : 'restart‘,\n",
    "\n",
    "Expected Result : 'resta\\$t'"
   ]
  },
  {
   "cell_type": "code",
   "execution_count": 6,
   "metadata": {
    "id": "Fj0XhwbBCw2o"
   },
   "outputs": [
    {
     "name": "stdout",
     "output_type": "stream",
     "text": [
      "Enter a string: restart\n",
      "resta$t\n"
     ]
    }
   ],
   "source": [
    "sample_string=input(\"Enter a string: \")\n",
    "# storing the first character of string\n",
    "first_char=str(sample_string[0])\n",
    "new_string=sample_string.replace(first_char,'$')\n",
    "new_string=new_string.replace(first_char.upper(),'$')\n",
    "new_string=new_string.replace(first_char.lower(),'$')\n",
    "# concatenating first character after replacing the remaining characters in the string\n",
    "new_string=first_char+new_string[1:]\n",
    "print(new_string)\n",
    "\n"
   ]
  },
  {
   "cell_type": "markdown",
   "metadata": {
    "id": "qVXA3q7ET5JI"
   },
   "source": [
    "(7) Create a program that calculates the factorial of a number using a while loop."
   ]
  },
  {
   "cell_type": "code",
   "execution_count": 7,
   "metadata": {
    "id": "Lbt7R6UkT7BA"
   },
   "outputs": [
    {
     "name": "stdout",
     "output_type": "stream",
     "text": [
      "Enter a number: 15\n",
      "Factorial of 15 is 1307674368000\n"
     ]
    }
   ],
   "source": [
    "# taking input from user for the number\n",
    "n=int(input(\"Enter a number: \"))\n",
    "# defining a function to calculate the factorial\n",
    "def factorial(n):\n",
    "    if n < 0:\n",
    "        return 0\n",
    "    elif n == 0 or n == 1:\n",
    "        return 1\n",
    "    else:\n",
    "        fact = 1\n",
    "        while(n > 1):\n",
    "            fact *= n\n",
    "            n -= 1\n",
    "        return fact\n",
    "\n",
    "print(\"Factorial of\",n,\"is\",\n",
    "factorial(n))"
   ]
  },
  {
   "cell_type": "markdown",
   "metadata": {
    "id": "6YfbzXMNT--R"
   },
   "source": [
    "(8) Create a program that takes a list of numbers as input and outputs a new list with only the even numbers."
   ]
  },
  {
   "cell_type": "code",
   "execution_count": 8,
   "metadata": {
    "id": "54q7wMQPUAKu"
   },
   "outputs": [
    {
     "name": "stdout",
     "output_type": "stream",
     "text": [
      "Enter number of items inlist: 5\n",
      "2\n",
      "15\n",
      "17\n",
      "88\n",
      "24\n"
     ]
    },
    {
     "data": {
      "text/plain": [
       "[2, 88, 24]"
      ]
     },
     "execution_count": 8,
     "metadata": {},
     "output_type": "execute_result"
    }
   ],
   "source": [
    "mynumlist=[]\n",
    "len_list=int(input(\"Enter number of items inlist: \"))\n",
    "for i in range(0,len_list):\n",
    "    num=int(input())\n",
    "    mynumlist.append(num)\n",
    "    # seperating even numbers into new list\n",
    "newlist = [x for x in mynumlist if x%2==0]\n",
    "newlist\n"
   ]
  },
  {
   "cell_type": "markdown",
   "metadata": {
    "id": "_bIP7s1MCzue"
   },
   "source": [
    "(9) Write a program with python which could accept two parameter a and b to calculate and output the result of S, where\n",
    "\n",
    "$\\ S=3.14*(1+a/b)^3$\n",
    "\n"
   ]
  },
  {
   "cell_type": "code",
   "execution_count": 9,
   "metadata": {
    "id": "w79QilHXD3Mg"
   },
   "outputs": [
    {
     "name": "stdout",
     "output_type": "stream",
     "text": [
      "Enter first number: 6\n",
      "Enter second number: 3\n"
     ]
    },
    {
     "data": {
      "text/plain": [
       "84.78"
      ]
     },
     "execution_count": 9,
     "metadata": {},
     "output_type": "execute_result"
    }
   ],
   "source": [
    "a = float(input('Enter first number: '))\n",
    "b = float(input('Enter second number: '))\n",
    "s=3.14 * (1+a/b) ** 3\n",
    "s\n"
   ]
  },
  {
   "cell_type": "markdown",
   "metadata": {
    "id": "xCa2bK9aD4Q3"
   },
   "source": [
    "(10) Write a Python program to concatenate following dictionaries to create a new one.\n",
    "\n",
    "Sample Dictionary : dic1={1:10, 2:20}, dic2={3:30, 4:40}, dic3={5:50,6:60},\n",
    "\n",
    "Expected Result : {1: 10, 2: 20, 3: 30, 4: 40, 5: 50, 6: 60}\n"
   ]
  },
  {
   "cell_type": "code",
   "execution_count": 10,
   "metadata": {
    "id": "_z4aLqAbEET1"
   },
   "outputs": [
    {
     "data": {
      "text/plain": [
       "{1: 10, 2: 20, 3: 30, 4: 40, 5: 50, 6: 60}"
      ]
     },
     "execution_count": 10,
     "metadata": {},
     "output_type": "execute_result"
    }
   ],
   "source": [
    "dic1={1:10,2:20}\n",
    "dic2={3:30,4:40}\n",
    "dic3={5:50,6:60}\n",
    "# concatenating dictionaries\n",
    "final_dic=dic1 | dic2 | dic3\n",
    "final_dic\n"
   ]
  },
  {
   "cell_type": "markdown",
   "metadata": {
    "id": "bkyZ2xSZUOst"
   },
   "source": [
    "(11) Write a Python function that accepts a tuple of integers and returns the largest and smallest elements."
   ]
  },
  {
   "cell_type": "code",
   "execution_count": 11,
   "metadata": {
    "id": "3FdLRBKOUQEd"
   },
   "outputs": [
    {
     "name": "stdout",
     "output_type": "stream",
     "text": [
      "The largest and smallest elements in tuple are : 66  and  5\n"
     ]
    }
   ],
   "source": [
    "mytuple=(5,8,23,16,7,40,7,66,12)\n",
    "# defining a function to find smallest and largest elements in tuple\n",
    "# starts from first element and iterates through tuple by comparing each element\n",
    "def max_and_min(mytuple):\n",
    "    max_ele = min_ele = mytuple[0]\n",
    "    for i in mytuple[1:]:\n",
    "        if i < min_ele:\n",
    "            min_ele = i\n",
    "        elif i > max_ele:\n",
    "            max_ele = i\n",
    "\n",
    "    return (max_ele, min_ele)\n",
    "largest,smallest=max_and_min(mytuple)\n",
    "print(\"The largest and smallest elements in tuple are :\",largest,\" and \",smallest)"
   ]
  },
  {
   "cell_type": "markdown",
   "metadata": {
    "id": "O0TVi3gKUTpp"
   },
   "source": [
    "(12) Write a Python program that counts the frequency of each character in a given string and stores it in a dictionary."
   ]
  },
  {
   "cell_type": "code",
   "execution_count": 12,
   "metadata": {
    "id": "lAtfSfZXUU-h"
   },
   "outputs": [
    {
     "name": "stdout",
     "output_type": "stream",
     "text": [
      "Enter a string: Once upon a time\n",
      "{'O': 1, 'n': 2, 'c': 1, 'e': 2, ' ': 3, 'u': 1, 'p': 1, 'o': 1, 'a': 1, 't': 1, 'i': 1, 'm': 1}\n"
     ]
    }
   ],
   "source": [
    "sample_string=input(\"Enter a string: \")\n",
    "# creating empty dictionary to store frequency of each character\n",
    "count_char= {}\n",
    "for i in sample_string:\n",
    "    if i in count_char:\n",
    "        count_char[i] += 1\n",
    "    else:\n",
    "        count_char[i] = 1\n",
    "print(count_char)"
   ]
  },
  {
   "cell_type": "markdown",
   "metadata": {
    "id": "0v48Vqa7FrQh"
   },
   "source": [
    "(13) Write a Python program to check whether an element exists within a tuple."
   ]
  },
  {
   "cell_type": "code",
   "execution_count": 13,
   "metadata": {
    "id": "7WEmgq-DF2P1"
   },
   "outputs": [
    {
     "name": "stdout",
     "output_type": "stream",
     "text": [
      "Enter an element to check if it exists in tuple: 40\n",
      "['yes']\n"
     ]
    }
   ],
   "source": [
    "mytuple1=(5,8,23,16,7,40,7,66,12)\n",
    "ele = int(input(\"Enter an element to check if it exists in tuple: \"))\n",
    "# checking if the input element exists in tuple and storing it in x\n",
    "x = [i for i in mytuple1 if i == ele]\n",
    "print([\"yes\" if x else \"no\"])"
   ]
  },
  {
   "cell_type": "markdown",
   "metadata": {
    "id": "vD5PYLMuGga_"
   },
   "source": [
    "(14) Write a Python program to find maximum and the minimum value in a set."
   ]
  },
  {
   "cell_type": "code",
   "execution_count": 14,
   "metadata": {
    "id": "t0D5kdJUGjjw"
   },
   "outputs": [
    {
     "name": "stdout",
     "output_type": "stream",
     "text": [
      "Maximum value in set is : 77\n",
      "Minimum value in set is : 6\n"
     ]
    }
   ],
   "source": [
    "myset={6,7,23,77,45,23}\n",
    "# using max and min functions\n",
    "print(\"Maximum value in set is :\",max(myset))\n",
    "print(\"Minimum value in set is :\",min(myset))\n"
   ]
  },
  {
   "cell_type": "markdown",
   "metadata": {
    "id": "uHkd-y5VhVWC"
   },
   "source": [
    "(15) Write a Python program to randomly divide the students in this class into six groups for term projects, each group should have at least 4 students but no more than 6 students (including 6). Here is the students list:\n",
    "student_list_fall_2023=['sb1826' ,\n",
    " 'lb0582' ,\n",
    " 'ab1820' ,\n",
    " 'sb1883' ,\n",
    " 'mb1296' ,\n",
    " 'sc1622' ,\n",
    " 'tc0469' ,\n",
    " 'ac1770' ,\n",
    " 'mc1453' ,\n",
    " 'ad1187' ,\n",
    " 'sd0926' ,\n",
    " 'sd1268' ,\n",
    " 'ag1609' ,\n",
    " 'sg1638' ,\n",
    " 'mg1299' ,\n",
    " 'vkk0022' ,\n",
    " 'bk0413' ,\n",
    " 'gk0257' ,\n",
    " 'am2807' ,\n",
    " 'gm0558' ,\n",
    " 'pm0658' ,\n",
    " 'am2346' ,\n",
    " 'rm1090' ,\n",
    " 'sm2364' ,\n",
    " 'sm2747' ,\n",
    " 'sm2343' ,\n",
    " 'vm0597' ,\n",
    " 'htn0086' ,\n",
    " 'sp2075' ,\n",
    " 'gp0306' ,\n",
    " 'lp0502' ,\n",
    " 'sr1508' ,\n",
    " 'vr0331' ,\n",
    " 'yr0180' ,\n",
    " 'as2819' ,\n",
    " 'ss2981' ,\n",
    " 'ns0756' ,\n",
    " 'mt0825' ,\n",
    " 'dt0463' ,\n",
    " 'su0137' ,\n",
    " 'dv0310'\n",
    "]"
   ]
  },
  {
   "cell_type": "code",
   "execution_count": 17,
   "metadata": {
    "id": "3iGbmcOBhTwy"
   },
   "outputs": [
    {
     "name": "stdout",
     "output_type": "stream",
     "text": [
      "Group 1: lb0582, sc1622, bk0413, ss2981, mb1296, rm1090\n",
      "Group 2: vr0331, ag1609, tc0469, sg1638, dt0463, sd1268\n",
      "Group 3: sm2364, gk0257, gm0558, mc1453, lp0502, su0137\n",
      "Group 4: htn0086, ns0756, am2346, mt0825, vkk0022, vm0597\n",
      "Group 5: ad1187, sm2343, am2807, ab1820, pm0658, sm2747\n",
      "Group 6: sr1508, ac1770, sp2075, yr0180, sb1826, gp0306\n",
      "Group 7: dv0310, sb1883, sd0926, mg1299, as2819\n"
     ]
    }
   ],
   "source": [
    "# importing random module to randomly divide students\n",
    "import random\n",
    "# defining function which takes student list, minimum size and maximum size of group\n",
    "def project_groups(student_list, minimum_group_size, maximum_group_size):\n",
    "    # list is shuffled using random function\n",
    "    random.shuffle(student_list)\n",
    "    # declaring empty lists for individual groups and final list of project groups\n",
    "    finalprojectgroups = []\n",
    "    individualgroup = []\n",
    "    # a student is added to individual list and a group is considered complete and added to final list if it meets maximumlength or if the student is last in that group\n",
    "    for student in student_list:\n",
    "        individualgroup.append(student)\n",
    "        if len(individualgroup) >= minimum_group_size and (len(individualgroup) == maximum_group_size or student == student_list[-1]):\n",
    "            finalprojectgroups.append(individualgroup)\n",
    "            individualgroup = []\n",
    "    return finalprojectgroups\n",
    "student_list_fall_2023 = ['sb1826', 'lb0582', 'ab1820', 'sb1883', 'mb1296', 'sc1622', 'tc0469', 'ac1770', 'mc1453', 'ad1187', 'sd0926', 'sd1268', 'ag1609', 'sg1638', 'mg1299', 'vkk0022', 'bk0413', 'gk0257', 'am2807', 'gm0558', 'pm0658', 'am2346', 'rm1090', 'sm2364', 'sm2747', 'sm2343', 'vm0597', 'htn0086', 'sp2075', 'gp0306', 'lp0502', 'sr1508', 'vr0331', 'yr0180', 'as2819', 'ss2981', 'ns0756', 'mt0825', 'dt0463', 'su0137', 'dv0310']\n",
    "minimum_group_size = 4\n",
    "maximum_group_size = 6\n",
    "finalprojectgroups = project_groups(student_list_fall_2023, minimum_group_size, maximum_group_size)\n",
    "for i, group in enumerate(finalprojectgroups, start=1):\n",
    "    print(f\"Group {i}: {', '.join(group)}\")\n"
   ]
  },
  {
   "cell_type": "markdown",
   "metadata": {
    "id": "fmZ9vX20Qs3d"
   },
   "source": [
    "(16) Write a Python program to find the duplicate elements in a given array of integers. Return -1 If there are no such elements."
   ]
  },
  {
   "cell_type": "code",
   "execution_count": 18,
   "metadata": {
    "id": "W8Jw6sWMQs3d"
   },
   "outputs": [
    {
     "name": "stdout",
     "output_type": "stream",
     "text": [
      "2 3 4 5 77 66 2 3 9\n",
      "Duplicate elements in the given array are :  [2, 3]\n"
     ]
    }
   ],
   "source": [
    "def duplicate_elements(array):\n",
    "    list1 = []\n",
    "    for i in array:\n",
    "        if(array.count(i) > 1) and (i not in list1):\n",
    "            list1.append(i)\n",
    "    if list1 == []:\n",
    "        return -1\n",
    "    return list1\n",
    "# array elements are split\n",
    "array = list(map(int,input().split()))\n",
    "print(\"Duplicate elements in the given array are : \",duplicate_elements(array))\n"
   ]
  },
  {
   "cell_type": "markdown",
   "metadata": {
    "id": "hvq4APMhQs3d"
   },
   "source": [
    "(17) Write a Python program to select all the Sundays of a specified year."
   ]
  },
  {
   "cell_type": "code",
   "execution_count": 19,
   "metadata": {
    "id": "ZnoxhSglQs3d"
   },
   "outputs": [
    {
     "name": "stdout",
     "output_type": "stream",
     "text": [
      "Enter a year: 1999\n",
      "All Sundays in 1999:\n",
      "1999-01-03\n",
      "1999-01-10\n",
      "1999-01-17\n",
      "1999-01-24\n",
      "1999-01-31\n",
      "1999-02-07\n",
      "1999-02-14\n",
      "1999-02-21\n",
      "1999-02-28\n",
      "1999-03-07\n",
      "1999-03-14\n",
      "1999-03-21\n",
      "1999-03-28\n",
      "1999-04-04\n",
      "1999-04-11\n",
      "1999-04-18\n",
      "1999-04-25\n",
      "1999-05-02\n",
      "1999-05-09\n",
      "1999-05-16\n",
      "1999-05-23\n",
      "1999-05-30\n",
      "1999-06-06\n",
      "1999-06-13\n",
      "1999-06-20\n",
      "1999-06-27\n",
      "1999-07-04\n",
      "1999-07-11\n",
      "1999-07-18\n",
      "1999-07-25\n",
      "1999-08-01\n",
      "1999-08-08\n",
      "1999-08-15\n",
      "1999-08-22\n",
      "1999-08-29\n",
      "1999-09-05\n",
      "1999-09-12\n",
      "1999-09-19\n",
      "1999-09-26\n",
      "1999-10-03\n",
      "1999-10-10\n",
      "1999-10-17\n",
      "1999-10-24\n",
      "1999-10-31\n",
      "1999-11-07\n",
      "1999-11-14\n",
      "1999-11-21\n",
      "1999-11-28\n",
      "1999-12-05\n",
      "1999-12-12\n",
      "1999-12-19\n",
      "1999-12-26\n"
     ]
    }
   ],
   "source": [
    "import datetime\n",
    "def sundays_in_year(year):\n",
    "    sundays = []\n",
    "    # date variable is initialized to store the first date of january month of the year input by user\n",
    "    date = datetime.date(year, 1, 1)\n",
    "    #it checks for sunday in the year and adds it to sunday list\n",
    "    while date.year == year:\n",
    "        if date.weekday() == 6:\n",
    "            sundays.append(date.strftime('%Y-%m-%d'))\n",
    "        date += datetime.timedelta(days=1)\n",
    "    return sundays\n",
    "year = int(input(\"Enter a year: \"))\n",
    "sundays = sundays_in_year(year)\n",
    "print(f\"All Sundays in {year}:\")\n",
    "for sunday in sundays:\n",
    "    print(sunday)\n"
   ]
  },
  {
   "cell_type": "markdown",
   "metadata": {
    "id": "55FWoSJPVVM6"
   },
   "source": [
    "(18) Build a program that calculates the factorial of a given positive integer. The factorial of a non-negative integer n is the product of all positive integers less than or equal to n."
   ]
  },
  {
   "cell_type": "code",
   "execution_count": 20,
   "metadata": {
    "id": "hwtr1wZmVX5A"
   },
   "outputs": [
    {
     "name": "stdout",
     "output_type": "stream",
     "text": [
      "Enter a number: 7\n",
      "Factorial of 7 is 5040\n"
     ]
    }
   ],
   "source": [
    "n=int(input(\"Enter a number: \"))\n",
    "# defing function to calculate factorial of number\n",
    "def factorial(n):\n",
    "    if n < 0:\n",
    "        return 0\n",
    "    elif n == 0 or n == 1:\n",
    "        return 1\n",
    "    else:\n",
    "        fact = 1\n",
    "        # using while loop to calculate factorial by multiplying with previous values until its greater than 1\n",
    "        while(n > 1):\n",
    "            fact *= n\n",
    "            n -= 1\n",
    "        return fact\n",
    "\n",
    "print(\"Factorial of\",n,\"is\",\n",
    "factorial(n))\n"
   ]
  },
  {
   "cell_type": "markdown",
   "metadata": {
    "id": "Q9ecagcaVazW"
   },
   "source": [
    "(19) Write a program that takes a positive integer n as input and prints the count of even numbers from 1 to n. Use a loop to iterate through the numbers and utilize the break statement to optimize the loop."
   ]
  },
  {
   "cell_type": "code",
   "execution_count": 21,
   "metadata": {
    "id": "gycgckoAVZjR"
   },
   "outputs": [
    {
     "name": "stdout",
     "output_type": "stream",
     "text": [
      "22\n",
      "11\n"
     ]
    }
   ],
   "source": [
    "def even_numbers(n):\n",
    "    count = 0\n",
    "    for num in range(1, n + 1):\n",
    "        # checking if the number is even and increasing the count if it is even\n",
    "        if num % 2 == 0:\n",
    "            count += 1\n",
    "        elif num > n:  \n",
    "            break\n",
    "    return count\n",
    "number = abs(int(input()))\n",
    "print(even_numbers(number))\n"
   ]
  },
  {
   "cell_type": "markdown",
   "metadata": {
    "id": "cboAr5pEWUf5"
   },
   "source": [
    "(20) Write a Python function called count_vowels that takes a string as input and returns the count of vowels (both lowercase and uppercase) present in the string. Consider the vowels to be 'a', 'e', 'i', 'o', and 'u'. Ignore spaces and other non-alphabetic characters."
   ]
  },
  {
   "cell_type": "code",
   "execution_count": 22,
   "metadata": {
    "id": "phs9gciMWWAW"
   },
   "outputs": [
    {
     "name": "stdout",
     "output_type": "stream",
     "text": [
      "Enter string to find the count of vowels :Starbucks\n",
      "2\n"
     ]
    }
   ],
   "source": [
    "def count_vowels(string):\n",
    "    # defining vowels in vowels list\n",
    "    vowels = [\"a\",\"e\",\"i\",\"o\",\"u\"]\n",
    "    count = 0\n",
    "    for i in string:\n",
    "        # checking for vowels in string by comparing each letter of string to vowels list and increasing the count if found\n",
    "        if i in vowels:\n",
    "            count += 1\n",
    "    return count\n",
    "print(count_vowels(input(\"Enter string to find the count of vowels :\").lower()))\n"
   ]
  },
  {
   "cell_type": "code",
   "execution_count": null,
   "metadata": {},
   "outputs": [],
   "source": []
  }
 ],
 "metadata": {
  "colab": {
   "provenance": []
  },
  "kernelspec": {
   "display_name": "Python 3 (ipykernel)",
   "language": "python",
   "name": "python3"
  },
  "language_info": {
   "codemirror_mode": {
    "name": "ipython",
    "version": 3
   },
   "file_extension": ".py",
   "mimetype": "text/x-python",
   "name": "python",
   "nbconvert_exporter": "python",
   "pygments_lexer": "ipython3",
   "version": "3.9.12"
  }
 },
 "nbformat": 4,
 "nbformat_minor": 1
}
